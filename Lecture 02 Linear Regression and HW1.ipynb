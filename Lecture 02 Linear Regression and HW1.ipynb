{
 "cells": [
  {
   "cell_type": "markdown",
   "metadata": {
    "id": "pzNwjGvzug2I"
   },
   "source": [
    "Most of the contents of this notebook were prepared by Dr. Edward Raff (Spring 2019)"
   ]
  },
  {
   "cell_type": "markdown",
   "metadata": {
    "id": "ydL_9YWjjWMC"
   },
   "source": [
    "## LINEAR REGRESSION"
   ]
  },
  {
   "cell_type": "code",
   "execution_count": 1,
   "metadata": {
    "executionInfo": {
     "elapsed": 1386,
     "status": "ok",
     "timestamp": 1654551175479,
     "user": {
      "displayName": "Yalin Bastanlar",
      "userId": "07407514109940480382"
     },
     "user_tz": 240
    },
    "id": "gNktF5vjhozS"
   },
   "outputs": [],
   "source": [
    "import pandas as pd\n",
    "import numpy as np\n",
    "from matplotlib import pyplot \n",
    "from sklearn import datasets\n",
    "from sklearn.linear_model import LinearRegression"
   ]
  },
  {
   "cell_type": "markdown",
   "metadata": {
    "id": "iNU0x46WkZmv"
   },
   "source": [
    "First, lets remember linear regression. The goal is to learn a set of weights $\\theta$ to predict a value $y$, based on a datapoint $x$. If $x$ has $d$ features, this looks like:\n",
    "\n",
    "$$ {h_\\theta}(x) = \\theta_1 \\cdot x_1 + \\theta_2 \\cdot x_2 + \\ldots + \\theta_{d-1} \\cdot x_{d-1} + \\theta_d \\cdot x_d$$\n",
    "\n",
    "Written with more math-like notation, that becomes\n",
    "\n",
    "$${h_\\theta}(x) = \\sum_{i=1}^d \\theta_i \\cdot x_i = \\theta^T x$$\n"
   ]
  },
  {
   "cell_type": "markdown",
   "metadata": {
    "id": "I85x8dDVk_xc"
   },
   "source": [
    "To learn these weights $\\theta$ we use our training data. We have $m$ datapoints, $x^{(1)}, x^{(2)}, \\ldots, x^{(m)}$ and associated labels $y^{(1)}, y^{(2)}, \\ldots, y^{(m)}$. \n",
    "\n",
    "We will use what is called a ***cost function*** or an ***objective function***. It is a function that describes a score we want to minimize in order to achieve our goal. For linear regression, our cost function is parameterized with $\\theta$.\n",
    "\n",
    "$$J(\\theta) = \\frac{1}{2m} \\sum_{i=1}^m \\left(\\underbrace{\\theta^T x^{(i)}}_{\\text{Prediction}} - \\underbrace{y^{(i)}}_{\\text{Target}}\\right)^2$$\n",
    "\n",
    "Optimization is done using a gradient, so we a need a gradient:\n",
    "\n",
    "$$\\nabla_\\theta J = \\frac{1}{m} \\sum_{i=1}^n x^{(i)} \\cdot \\underbrace{( \\theta^T x^{(i)}-y^{(i)})}_{\\text{The error}}$$\n",
    "\n",
    "Lets look at some naive code for this. \n",
    "\n",
    "Assume there is only one variable ($\\theta_1$), there is not even bias(intercept) term ($\\theta_0$).\n",
    "\n",
    "Notation: w is used instead of $\\theta_1$, @ stands for dot product, X denotes data points ($x^{(1)}, x^{(2)}, \\ldots, x^{(m)}$), and y denotes  labels ($y^{(1)}, y^{(2)}, \\ldots, y^{(m)}$)."
   ]
  },
  {
   "cell_type": "code",
   "execution_count": 2,
   "metadata": {
    "executionInfo": {
     "elapsed": 157,
     "status": "ok",
     "timestamp": 1654542327177,
     "user": {
      "displayName": "Yalin Bastanlar",
      "userId": "07407514109940480382"
     },
     "user_tz": 240
    },
    "id": "6RCGbFg5QA8v"
   },
   "outputs": [],
   "source": [
    "def _gradient_step(w, error, rate = 0.3):\n",
    "    update = error * rate\n",
    "    return w - update\n",
    "  \n",
    "def linear_regression(X,y):\n",
    "  def objective_func(w):\n",
    "    return np.sum((X @ w - y) * (X @ w - y))/(2*len(y))\n",
    "  def gradient(w):\n",
    "    return np.sum([X[i] * (X[i]*w - y[i]) for i in range(y.shape[0])])/len(y)\n",
    "\n",
    "  #Lets pick some starting value for our weight vector. \n",
    "  w = np.zeros(X.shape[1])\n",
    "  \n",
    "  for i in range(30):\n",
    "    w = _gradient_step(w, gradient(w))\n",
    "    print(w,objective_func(w))\n",
    "  return w  \n",
    "  "
   ]
  },
  {
   "cell_type": "markdown",
   "metadata": {
    "id": "5GYNNUsV1oOP"
   },
   "source": [
    "We will use make_regression() function to make a toy regression problem. [See documentation here](https://scikit-learn.org/stable/modules/generated/sklearn.datasets.make_regression.html )"
   ]
  },
  {
   "cell_type": "code",
   "execution_count": 3,
   "metadata": {
    "colab": {
     "base_uri": "https://localhost:8080/",
     "height": 300
    },
    "executionInfo": {
     "elapsed": 356,
     "status": "ok",
     "timestamp": 1654542080754,
     "user": {
      "displayName": "Yalin Bastanlar",
      "userId": "07407514109940480382"
     },
     "user_tz": 240
    },
    "id": "o8XYhrE1DaNe",
    "outputId": "a2fd1817-915d-4321-943d-b74d4c0326bd"
   },
   "outputs": [
    {
     "name": "stdout",
     "output_type": "stream",
     "text": [
      "<class 'tuple'>\n"
     ]
    },
    {
     "data": {
      "text/plain": [
       "[<matplotlib.lines.Line2D at 0x293db58a430>]"
      ]
     },
     "execution_count": 3,
     "metadata": {},
     "output_type": "execute_result"
    },
    {
     "data": {
      "image/png": "[encoded data removed]",
      "text/plain": [
       "<Figure size 432x288 with 1 Axes>"
      ]
     },
     "metadata": {
      "needs_background": "light"
     },
     "output_type": "display_data"
    }
   ],
   "source": [
    "# Line below generates a random regression problem (no_of_samples, no_of_features ..)\n",
    "data = datasets.make_regression(100,1,noise = 7)\n",
    "print(type(data))\n",
    "#display(data)\n",
    "pyplot.plot(data[0][:], data[1][:], marker=\"o\", linestyle='')\n",
    "#a=data[0]\n",
    "#b=data[1]\n",
    "#print(type(a), type(b))\n",
    "#print(a.shape, b.shape)\n",
    "#help(pyplot.plot)"
   ]
  },
  {
   "cell_type": "code",
   "execution_count": 4,
   "metadata": {
    "colab": {
     "base_uri": "https://localhost:8080/"
    },
    "executionInfo": {
     "elapsed": 157,
     "status": "ok",
     "timestamp": 1654542330949,
     "user": {
      "displayName": "Yalin Bastanlar",
      "userId": "07407514109940480382"
     },
     "user_tz": 240
    },
    "id": "oDEiSpqDT0PG",
    "outputId": "7196105b-d858-4657-b332-b4883e43aa1f"
   },
   "outputs": [
    {
     "name": "stdout",
     "output_type": "stream",
     "text": [
      "[28.99922413] 2200.038564700116\n",
      "[49.06049915] 1065.2592859542513\n",
      "[62.93862063] 522.1894225572196\n",
      "[72.53931928] 262.29317484284843\n",
      "[79.18095407] 137.91496104638958\n",
      "[83.7755481] 78.39143885918463\n",
      "[86.95402674] 49.905343220532274\n",
      "[89.15285571] 36.27278898117858\n",
      "[90.67397616] 29.748674990746384\n",
      "[91.72626692] 26.626438129419153\n",
      "[92.45422758] 25.132233240827855\n",
      "[92.95782102] 24.417153524505174\n",
      "[93.30620021] 24.07493874218158\n",
      "[93.54720428] 23.91116545289988\n",
      "[93.71392767] 23.832788679985427\n",
      "[93.82926467] 23.79528000833679\n",
      "[93.90905327] 23.777329531473182\n",
      "[93.96424995] 23.768738994792773\n",
      "[94.00243428] 23.764627832676137\n",
      "[94.02884968] 23.762660359096994\n",
      "[94.04712351] 23.761718787790688\n",
      "[94.0597651] 23.761268181218746\n",
      "[94.06851038] 23.76105253500979\n",
      "[94.07456024] 23.760949333480266\n",
      "[94.07874546] 23.760899944456696\n",
      "[94.08164074] 23.760876308415064\n",
      "[94.08364365] 23.760864996944928\n",
      "[94.08502924] 23.760859583629202\n",
      "[94.08598778] 23.760856992985637\n",
      "[94.08665088] 23.76085575318466\n"
     ]
    }
   ],
   "source": [
    "w = linear_regression(data[0], data[1])\n",
    "# remember, what it prints are w(theta_1) and current value of objective_func"
   ]
  },
  {
   "cell_type": "markdown",
   "metadata": {
    "id": "tQcXBpcN-ind"
   },
   "source": [
    "## Solving linear regression with Scikit-learn.\n",
    "The toy implementation above is just for demonstration, and doesn't have all the features we would want when doing some real machine learning. \n",
    "Below we will use Scikit-learn's implementation.\n",
    "\n",
    "First lets put the data into a *dataframe*. We do not have to, but sometimes it makes things easier."
   ]
  },
  {
   "cell_type": "code",
   "execution_count": 5,
   "metadata": {
    "colab": {
     "base_uri": "https://localhost:8080/",
     "height": 424
    },
    "executionInfo": {
     "elapsed": 280,
     "status": "ok",
     "timestamp": 1654533927316,
     "user": {
      "displayName": "Yalin Bastanlar",
      "userId": "07407514109940480382"
     },
     "user_tz": 240
    },
    "id": "4OqF099tDsAH",
    "outputId": "0f7aba3d-8e49-46a6-d091-fcb5d48fe6fb"
   },
   "outputs": [
    {
     "data": {
      "text/html": [
       "<div>\n",
       "<style scoped>\n",
       "    .dataframe tbody tr th:only-of-type {\n",
       "        vertical-align: middle;\n",
       "    }\n",
       "\n",
       "    .dataframe tbody tr th {\n",
       "        vertical-align: top;\n",
       "    }\n",
       "\n",
       "    .dataframe thead th {\n",
       "        text-align: right;\n",
       "    }\n",
       "</style>\n",
       "<table border=\"1\" class=\"dataframe\">\n",
       "  <thead>\n",
       "    <tr style=\"text-align: right;\">\n",
       "      <th></th>\n",
       "      <th>X</th>\n",
       "      <th>Y</th>\n",
       "    </tr>\n",
       "  </thead>\n",
       "  <tbody>\n",
       "    <tr>\n",
       "      <th>0</th>\n",
       "      <td>0.713488</td>\n",
       "      <td>72.221642</td>\n",
       "    </tr>\n",
       "    <tr>\n",
       "      <th>1</th>\n",
       "      <td>-1.029819</td>\n",
       "      <td>-91.750417</td>\n",
       "    </tr>\n",
       "    <tr>\n",
       "      <th>2</th>\n",
       "      <td>1.451645</td>\n",
       "      <td>133.534058</td>\n",
       "    </tr>\n",
       "    <tr>\n",
       "      <th>3</th>\n",
       "      <td>-0.501700</td>\n",
       "      <td>-52.832988</td>\n",
       "    </tr>\n",
       "    <tr>\n",
       "      <th>4</th>\n",
       "      <td>-0.295014</td>\n",
       "      <td>-32.731143</td>\n",
       "    </tr>\n",
       "    <tr>\n",
       "      <th>...</th>\n",
       "      <td>...</td>\n",
       "      <td>...</td>\n",
       "    </tr>\n",
       "    <tr>\n",
       "      <th>95</th>\n",
       "      <td>-2.099333</td>\n",
       "      <td>-194.576502</td>\n",
       "    </tr>\n",
       "    <tr>\n",
       "      <th>96</th>\n",
       "      <td>0.379619</td>\n",
       "      <td>29.814114</td>\n",
       "    </tr>\n",
       "    <tr>\n",
       "      <th>97</th>\n",
       "      <td>-0.935080</td>\n",
       "      <td>-96.308375</td>\n",
       "    </tr>\n",
       "    <tr>\n",
       "      <th>98</th>\n",
       "      <td>-0.763272</td>\n",
       "      <td>-76.703793</td>\n",
       "    </tr>\n",
       "    <tr>\n",
       "      <th>99</th>\n",
       "      <td>-0.529655</td>\n",
       "      <td>-45.400894</td>\n",
       "    </tr>\n",
       "  </tbody>\n",
       "</table>\n",
       "<p>100 rows × 2 columns</p>\n",
       "</div>"
      ],
      "text/plain": [
       "           X           Y\n",
       "0   0.713488   72.221642\n",
       "1  -1.029819  -91.750417\n",
       "2   1.451645  133.534058\n",
       "3  -0.501700  -52.832988\n",
       "4  -0.295014  -32.731143\n",
       "..       ...         ...\n",
       "95 -2.099333 -194.576502\n",
       "96  0.379619   29.814114\n",
       "97 -0.935080  -96.308375\n",
       "98 -0.763272  -76.703793\n",
       "99 -0.529655  -45.400894\n",
       "\n",
       "[100 rows x 2 columns]"
      ]
     },
     "metadata": {},
     "output_type": "display_data"
    }
   ],
   "source": [
    "df=pd.DataFrame(data=np.c_[data[0],data[1]], columns=['X','Y'])\n",
    "#np.c_[a,b] is the same with np.column_stack((a,b))\n",
    "#similarly there is also np.r_[a,b] for row stack\n",
    "display(df)"
   ]
  },
  {
   "cell_type": "code",
   "execution_count": 6,
   "metadata": {
    "colab": {
     "base_uri": "https://localhost:8080/",
     "height": 206
    },
    "executionInfo": {
     "elapsed": 186,
     "status": "ok",
     "timestamp": 1654534188169,
     "user": {
      "displayName": "Yalin Bastanlar",
      "userId": "07407514109940480382"
     },
     "user_tz": 240
    },
    "id": "qVdKXV0vkwEU",
    "outputId": "dfe546d1-747a-4327-b89c-774cf06e0917"
   },
   "outputs": [
    {
     "data": {
      "text/html": [
       "<div>\n",
       "<style scoped>\n",
       "    .dataframe tbody tr th:only-of-type {\n",
       "        vertical-align: middle;\n",
       "    }\n",
       "\n",
       "    .dataframe tbody tr th {\n",
       "        vertical-align: top;\n",
       "    }\n",
       "\n",
       "    .dataframe thead th {\n",
       "        text-align: right;\n",
       "    }\n",
       "</style>\n",
       "<table border=\"1\" class=\"dataframe\">\n",
       "  <thead>\n",
       "    <tr style=\"text-align: right;\">\n",
       "      <th></th>\n",
       "      <th>X</th>\n",
       "      <th>Y</th>\n",
       "    </tr>\n",
       "  </thead>\n",
       "  <tbody>\n",
       "    <tr>\n",
       "      <th>0</th>\n",
       "      <td>0.713488</td>\n",
       "      <td>72.221642</td>\n",
       "    </tr>\n",
       "    <tr>\n",
       "      <th>1</th>\n",
       "      <td>-1.029819</td>\n",
       "      <td>-91.750417</td>\n",
       "    </tr>\n",
       "    <tr>\n",
       "      <th>2</th>\n",
       "      <td>1.451645</td>\n",
       "      <td>133.534058</td>\n",
       "    </tr>\n",
       "    <tr>\n",
       "      <th>3</th>\n",
       "      <td>-0.501700</td>\n",
       "      <td>-52.832988</td>\n",
       "    </tr>\n",
       "    <tr>\n",
       "      <th>4</th>\n",
       "      <td>-0.295014</td>\n",
       "      <td>-32.731143</td>\n",
       "    </tr>\n",
       "  </tbody>\n",
       "</table>\n",
       "</div>"
      ],
      "text/plain": [
       "          X           Y\n",
       "0  0.713488   72.221642\n",
       "1 -1.029819  -91.750417\n",
       "2  1.451645  133.534058\n",
       "3 -0.501700  -52.832988\n",
       "4 -0.295014  -32.731143"
      ]
     },
     "execution_count": 6,
     "metadata": {},
     "output_type": "execute_result"
    }
   ],
   "source": [
    "df.head()"
   ]
  },
  {
   "cell_type": "code",
   "execution_count": 7,
   "metadata": {
    "colab": {
     "base_uri": "https://localhost:8080/"
    },
    "executionInfo": {
     "elapsed": 166,
     "status": "ok",
     "timestamp": 1654534195915,
     "user": {
      "displayName": "Yalin Bastanlar",
      "userId": "07407514109940480382"
     },
     "user_tz": 240
    },
    "id": "Qxms7xqc-4rm",
    "outputId": "0ca85b63-2a2a-4120-c1f1-f1f440fee4ff"
   },
   "outputs": [
    {
     "name": "stdout",
     "output_type": "stream",
     "text": [
      "(100, 1)\n",
      "(100, 1)\n"
     ]
    }
   ],
   "source": [
    "X = df['X'].values.reshape(-1, 1) \n",
    "#X = df['X'].values\n",
    "Y = df['Y'].values.reshape(-1, 1)\n",
    "print(X.shape)\n",
    "print(Y.shape)\n",
    "#help(df.values.reshape)"
   ]
  },
  {
   "cell_type": "markdown",
   "metadata": {
    "id": "c_JBsfksancy"
   },
   "source": [
    "Now we are ready to call the built-in function for linear regression."
   ]
  },
  {
   "cell_type": "code",
   "execution_count": 8,
   "metadata": {
    "colab": {
     "base_uri": "https://localhost:8080/"
    },
    "executionInfo": {
     "elapsed": 188,
     "status": "ok",
     "timestamp": 1654542910765,
     "user": {
      "displayName": "Yalin Bastanlar",
      "userId": "07407514109940480382"
     },
     "user_tz": 240
    },
    "id": "n267FrNmWjAN",
    "outputId": "8c5781e0-206c-4b50-a244-fad1ab61fffb"
   },
   "outputs": [
    {
     "data": {
      "text/plain": [
       "LinearRegression()"
      ]
     },
     "execution_count": 8,
     "metadata": {},
     "output_type": "execute_result"
    }
   ],
   "source": [
    "lr = LinearRegression()\n",
    "lr.fit(X,Y)\n",
    "#help(lr)\n",
    "\n",
    "#A note on normalization\n",
    "#In LinearRegression() default value for 'normalize' parameter is True.\n",
    "#I.e. X will be normalized before regression by subtracting the mean and dividing by the l2-norm"
   ]
  },
  {
   "cell_type": "code",
   "execution_count": 9,
   "metadata": {
    "colab": {
     "base_uri": "https://localhost:8080/"
    },
    "executionInfo": {
     "elapsed": 140,
     "status": "ok",
     "timestamp": 1654534356708,
     "user": {
      "displayName": "Yalin Bastanlar",
      "userId": "07407514109940480382"
     },
     "user_tz": 240
    },
    "id": "kvT-Mi8AISQE",
    "outputId": "329163b9-47f6-43cb-d9e0-f1c15cad32a9"
   },
   "outputs": [
    {
     "data": {
      "text/plain": [
       "(array([[94.09288194]]), array([-0.30047259]))"
      ]
     },
     "execution_count": 9,
     "metadata": {},
     "output_type": "execute_result"
    }
   ],
   "source": [
    "lr.coef_, lr.intercept_"
   ]
  },
  {
   "cell_type": "markdown",
   "metadata": {
    "id": "WtSDg1JV-4KM"
   },
   "source": [
    "This new version has so-called ***intercept*** ($\\theta_0$ in lecture notes).\n",
    "\n",
    "$$h_{\\theta}(x) = \\theta_0 + \\theta_1 x_1$$\n",
    "\n",
    "So this solution corresponds to the line  y = lr.intercept_ + x*lr.coef_"
   ]
  },
  {
   "cell_type": "code",
   "execution_count": 10,
   "metadata": {
    "colab": {
     "base_uri": "https://localhost:8080/",
     "height": 282
    },
    "executionInfo": {
     "elapsed": 457,
     "status": "ok",
     "timestamp": 1654534497420,
     "user": {
      "displayName": "Yalin Bastanlar",
      "userId": "07407514109940480382"
     },
     "user_tz": 240
    },
    "id": "Jaf3_mjTWp_d",
    "outputId": "78aceb67-5c21-4d19-9081-2b0f9b9c3049"
   },
   "outputs": [
    {
     "data": {
      "text/plain": [
       "<matplotlib.collections.PathCollection at 0x293dbd7dfd0>"
      ]
     },
     "execution_count": 10,
     "metadata": {},
     "output_type": "execute_result"
    },
    {
     "data": {
      "image/png": "[encoded data removed]",
      "text/plain": [
       "<Figure size 432x288 with 1 Axes>"
      ]
     },
     "metadata": {
      "needs_background": "light"
     },
     "output_type": "display_data"
    }
   ],
   "source": [
    "f = lambda x: lr.coef_[0] * x + lr.intercept_\n",
    "steps = list(np.arange(-3,3,.25))\n",
    "fitline = list(map(f, steps))\n",
    "pyplot.plot(steps, fitline, color='green')\n",
    "pyplot.scatter(x=df.X,y=df.Y)"
   ]
  },
  {
   "cell_type": "markdown",
   "metadata": {
    "id": "fH6KVqDS_JhG"
   },
   "source": [
    "With the intercept term, our fit line does not have to pass through (0,0) point anymore. Why it is important? Lets modify our data points by moving them up:"
   ]
  },
  {
   "cell_type": "code",
   "execution_count": 11,
   "metadata": {
    "executionInfo": {
     "elapsed": 170,
     "status": "ok",
     "timestamp": 1654534632184,
     "user": {
      "displayName": "Yalin Bastanlar",
      "userId": "07407514109940480382"
     },
     "user_tz": 240
    },
    "id": "wmBSXgc3_NTv"
   },
   "outputs": [],
   "source": [
    "df[\"Y\"] += 40"
   ]
  },
  {
   "cell_type": "code",
   "execution_count": 12,
   "metadata": {
    "colab": {
     "base_uri": "https://localhost:8080/",
     "height": 282
    },
    "executionInfo": {
     "elapsed": 516,
     "status": "ok",
     "timestamp": 1654534642654,
     "user": {
      "displayName": "Yalin Bastanlar",
      "userId": "07407514109940480382"
     },
     "user_tz": 240
    },
    "id": "6boF9_oLAHNk",
    "outputId": "d2e4a21b-c99f-415b-b0eb-4a981ac41743"
   },
   "outputs": [
    {
     "data": {
      "text/plain": [
       "<matplotlib.collections.PathCollection at 0x293dbe11ee0>"
      ]
     },
     "execution_count": 12,
     "metadata": {},
     "output_type": "execute_result"
    },
    {
     "data": {
      "image/png": "[encoded data removed]",
      "text/plain": [
       "<Figure size 432x288 with 1 Axes>"
      ]
     },
     "metadata": {
      "needs_background": "light"
     },
     "output_type": "display_data"
    }
   ],
   "source": [
    "lr_a = LinearRegression(fit_intercept=False)\n",
    "lr_a.fit(df['X'].values.reshape(-1, 1),df['Y'])\n",
    "\n",
    "lr_b = LinearRegression(fit_intercept=True)\n",
    "lr_b.fit(df['X'].values.reshape(-1, 1),df['Y'])\n",
    "\n",
    "f = lambda x: lr_a.coef_[0] * x + lr_a.intercept_\n",
    "steps = list(np.arange(-3,3,.25))\n",
    "pyplot.plot(steps, list(map(f, steps)),color='red')\n",
    "\n",
    "f = lambda x: lr_b.coef_[0] * x + lr_b.intercept_\n",
    "steps = list(np.arange(-3,3,.25))\n",
    "pyplot.plot(steps, list(map(f, steps)),color='green')\n",
    "\n",
    "pyplot.scatter(x=df.X,y=df.Y)"
   ]
  },
  {
   "cell_type": "markdown",
   "metadata": {
    "id": "hphT4wj3WptG"
   },
   "source": [
    "## BOSTON dataset"
   ]
  },
  {
   "cell_type": "code",
   "execution_count": 13,
   "metadata": {
    "colab": {
     "base_uri": "https://localhost:8080/"
    },
    "executionInfo": {
     "elapsed": 177,
     "status": "ok",
     "timestamp": 1654551186543,
     "user": {
      "displayName": "Yalin Bastanlar",
      "userId": "07407514109940480382"
     },
     "user_tz": 240
    },
    "id": "CIBY2fOPhzCc",
    "outputId": "221773d8-9f21-4745-b7da-fd13f2695df2"
   },
   "outputs": [],
   "source": [
    "data = datasets.load_boston()"
   ]
  },
  {
   "cell_type": "code",
   "execution_count": 14,
   "metadata": {
    "colab": {
     "base_uri": "https://localhost:8080/"
    },
    "executionInfo": {
     "elapsed": 149,
     "status": "ok",
     "timestamp": 1654551196002,
     "user": {
      "displayName": "Yalin Bastanlar",
      "userId": "07407514109940480382"
     },
     "user_tz": 240
    },
    "id": "N3U9kgaEiH8H",
    "outputId": "9efaed07-d60d-4371-e6f2-d8df9202a627"
   },
   "outputs": [
    {
     "data": {
      "text/plain": [
       "{'data': array([[6.3200e-03, 1.8000e+01, 2.3100e+00, ..., 1.5300e+01, 3.9690e+02,\n",
       "         4.9800e+00],\n",
       "        [2.7310e-02, 0.0000e+00, 7.0700e+00, ..., 1.7800e+01, 3.9690e+02,\n",
       "         9.1400e+00],\n",
       "        [2.7290e-02, 0.0000e+00, 7.0700e+00, ..., 1.7800e+01, 3.9283e+02,\n",
       "         4.0300e+00],\n",
       "        ...,\n",
       "        [6.0760e-02, 0.0000e+00, 1.1930e+01, ..., 2.1000e+01, 3.9690e+02,\n",
       "         5.6400e+00],\n",
       "        [1.0959e-01, 0.0000e+00, 1.1930e+01, ..., 2.1000e+01, 3.9345e+02,\n",
       "         6.4800e+00],\n",
       "        [4.7410e-02, 0.0000e+00, 1.1930e+01, ..., 2.1000e+01, 3.9690e+02,\n",
       "         7.8800e+00]]),\n",
       " 'target': array([24. , 21.6, 34.7, 33.4, 36.2, 28.7, 22.9, 27.1, 16.5, 18.9, 15. ,\n",
       "        18.9, 21.7, 20.4, 18.2, 19.9, 23.1, 17.5, 20.2, 18.2, 13.6, 19.6,\n",
       "        15.2, 14.5, 15.6, 13.9, 16.6, 14.8, 18.4, 21. , 12.7, 14.5, 13.2,\n",
       "        13.1, 13.5, 18.9, 20. , 21. , 24.7, 30.8, 34.9, 26.6, 25.3, 24.7,\n",
       "        21.2, 19.3, 20. , 16.6, 14.4, 19.4, 19.7, 20.5, 25. , 23.4, 18.9,\n",
       "        35.4, 24.7, 31.6, 23.3, 19.6, 18.7, 16. , 22.2, 25. , 33. , 23.5,\n",
       "        19.4, 22. , 17.4, 20.9, 24.2, 21.7, 22.8, 23.4, 24.1, 21.4, 20. ,\n",
       "        20.8, 21.2, 20.3, 28. , 23.9, 24.8, 22.9, 23.9, 26.6, 22.5, 22.2,\n",
       "        23.6, 28.7, 22.6, 22. , 22.9, 25. , 20.6, 28.4, 21.4, 38.7, 43.8,\n",
       "        33.2, 27.5, 26.5, 18.6, 19.3, 20.1, 19.5, 19.5, 20.4, 19.8, 19.4,\n",
       "        21.7, 22.8, 18.8, 18.7, 18.5, 18.3, 21.2, 19.2, 20.4, 19.3, 22. ,\n",
       "        20.3, 20.5, 17.3, 18.8, 21.4, 15.7, 16.2, 18. , 14.3, 19.2, 19.6,\n",
       "        23. , 18.4, 15.6, 18.1, 17.4, 17.1, 13.3, 17.8, 14. , 14.4, 13.4,\n",
       "        15.6, 11.8, 13.8, 15.6, 14.6, 17.8, 15.4, 21.5, 19.6, 15.3, 19.4,\n",
       "        17. , 15.6, 13.1, 41.3, 24.3, 23.3, 27. , 50. , 50. , 50. , 22.7,\n",
       "        25. , 50. , 23.8, 23.8, 22.3, 17.4, 19.1, 23.1, 23.6, 22.6, 29.4,\n",
       "        23.2, 24.6, 29.9, 37.2, 39.8, 36.2, 37.9, 32.5, 26.4, 29.6, 50. ,\n",
       "        32. , 29.8, 34.9, 37. , 30.5, 36.4, 31.1, 29.1, 50. , 33.3, 30.3,\n",
       "        34.6, 34.9, 32.9, 24.1, 42.3, 48.5, 50. , 22.6, 24.4, 22.5, 24.4,\n",
       "        20. , 21.7, 19.3, 22.4, 28.1, 23.7, 25. , 23.3, 28.7, 21.5, 23. ,\n",
       "        26.7, 21.7, 27.5, 30.1, 44.8, 50. , 37.6, 31.6, 46.7, 31.5, 24.3,\n",
       "        31.7, 41.7, 48.3, 29. , 24. , 25.1, 31.5, 23.7, 23.3, 22. , 20.1,\n",
       "        22.2, 23.7, 17.6, 18.5, 24.3, 20.5, 24.5, 26.2, 24.4, 24.8, 29.6,\n",
       "        42.8, 21.9, 20.9, 44. , 50. , 36. , 30.1, 33.8, 43.1, 48.8, 31. ,\n",
       "        36.5, 22.8, 30.7, 50. , 43.5, 20.7, 21.1, 25.2, 24.4, 35.2, 32.4,\n",
       "        32. , 33.2, 33.1, 29.1, 35.1, 45.4, 35.4, 46. , 50. , 32.2, 22. ,\n",
       "        20.1, 23.2, 22.3, 24.8, 28.5, 37.3, 27.9, 23.9, 21.7, 28.6, 27.1,\n",
       "        20.3, 22.5, 29. , 24.8, 22. , 26.4, 33.1, 36.1, 28.4, 33.4, 28.2,\n",
       "        22.8, 20.3, 16.1, 22.1, 19.4, 21.6, 23.8, 16.2, 17.8, 19.8, 23.1,\n",
       "        21. , 23.8, 23.1, 20.4, 18.5, 25. , 24.6, 23. , 22.2, 19.3, 22.6,\n",
       "        19.8, 17.1, 19.4, 22.2, 20.7, 21.1, 19.5, 18.5, 20.6, 19. , 18.7,\n",
       "        32.7, 16.5, 23.9, 31.2, 17.5, 17.2, 23.1, 24.5, 26.6, 22.9, 24.1,\n",
       "        18.6, 30.1, 18.2, 20.6, 17.8, 21.7, 22.7, 22.6, 25. , 19.9, 20.8,\n",
       "        16.8, 21.9, 27.5, 21.9, 23.1, 50. , 50. , 50. , 50. , 50. , 13.8,\n",
       "        13.8, 15. , 13.9, 13.3, 13.1, 10.2, 10.4, 10.9, 11.3, 12.3,  8.8,\n",
       "         7.2, 10.5,  7.4, 10.2, 11.5, 15.1, 23.2,  9.7, 13.8, 12.7, 13.1,\n",
       "        12.5,  8.5,  5. ,  6.3,  5.6,  7.2, 12.1,  8.3,  8.5,  5. , 11.9,\n",
       "        27.9, 17.2, 27.5, 15. , 17.2, 17.9, 16.3,  7. ,  7.2,  7.5, 10.4,\n",
       "         8.8,  8.4, 16.7, 14.2, 20.8, 13.4, 11.7,  8.3, 10.2, 10.9, 11. ,\n",
       "         9.5, 14.5, 14.1, 16.1, 14.3, 11.7, 13.4,  9.6,  8.7,  8.4, 12.8,\n",
       "        10.5, 17.1, 18.4, 15.4, 10.8, 11.8, 14.9, 12.6, 14.1, 13. , 13.4,\n",
       "        15.2, 16.1, 17.8, 14.9, 14.1, 12.7, 13.5, 14.9, 20. , 16.4, 17.7,\n",
       "        19.5, 20.2, 21.4, 19.9, 19. , 19.1, 19.1, 20.1, 19.9, 19.6, 23.2,\n",
       "        29.8, 13.8, 13.3, 16.7, 12. , 14.6, 21.4, 23. , 23.7, 25. , 21.8,\n",
       "        20.6, 21.2, 19.1, 20.6, 15.2,  7. ,  8.1, 13.6, 20.1, 21.8, 24.5,\n",
       "        23.1, 19.7, 18.3, 21.2, 17.5, 16.8, 22.4, 20.6, 23.9, 22. , 11.9]),\n",
       " 'feature_names': array(['CRIM', 'ZN', 'INDUS', 'CHAS', 'NOX', 'RM', 'AGE', 'DIS', 'RAD',\n",
       "        'TAX', 'PTRATIO', 'B', 'LSTAT'], dtype='<U7'),\n",
       " 'DESCR': \".. _boston_dataset:\\n\\nBoston house prices dataset\\n---------------------------\\n\\n**Data Set Characteristics:**  \\n\\n    :Number of Instances: 506 \\n\\n    :Number of Attributes: 13 numeric/categorical predictive. Median Value (attribute 14) is usually the target.\\n\\n    :Attribute Information (in order):\\n        - CRIM     per capita crime rate by town\\n        - ZN       proportion of residential land zoned for lots over 25,000 sq.ft.\\n        - INDUS    proportion of non-retail business acres per town\\n        - CHAS     Charles River dummy variable (= 1 if tract bounds river; 0 otherwise)\\n        - NOX      nitric oxides concentration (parts per 10 million)\\n        - RM       average number of rooms per dwelling\\n        - AGE      proportion of owner-occupied units built prior to 1940\\n        - DIS      weighted distances to five Boston employment centres\\n        - RAD      index of accessibility to radial highways\\n        - TAX      full-value property-tax rate per $10,000\\n        - PTRATIO  pupil-teacher ratio by town\\n        - B        1000(Bk - 0.63)^2 where Bk is the proportion of black people by town\\n        - LSTAT    % lower status of the population\\n        - MEDV     Median value of owner-occupied homes in $1000's\\n\\n    :Missing Attribute Values: None\\n\\n    :Creator: Harrison, D. and Rubinfeld, D.L.\\n\\nThis is a copy of UCI ML housing dataset.\\nhttps://archive.ics.uci.edu/ml/machine-learning-databases/housing/\\n\\n\\nThis dataset was taken from the StatLib library which is maintained at Carnegie Mellon University.\\n\\nThe Boston house-price data of Harrison, D. and Rubinfeld, D.L. 'Hedonic\\nprices and the demand for clean air', J. Environ. Economics & Management,\\nvol.5, 81-102, 1978.   Used in Belsley, Kuh & Welsch, 'Regression diagnostics\\n...', Wiley, 1980.   N.B. Various transformations are used in the table on\\npages 244-261 of the latter.\\n\\nThe Boston house-price data has been used in many machine learning papers that address regression\\nproblems.   \\n     \\n.. topic:: References\\n\\n   - Belsley, Kuh & Welsch, 'Regression diagnostics: Identifying Influential Data and Sources of Collinearity', Wiley, 1980. 244-261.\\n   - Quinlan,R. (1993). Combining Instance-Based and Model-Based Learning. In Proceedings on the Tenth International Conference of Machine Learning, 236-243, University of Massachusetts, Amherst. Morgan Kaufmann.\\n\",\n",
       " 'filename': 'C:\\\\Users\\\\sanat\\\\anaconda3\\\\lib\\\\site-packages\\\\sklearn\\\\datasets\\\\data\\\\boston_house_prices.csv'}"
      ]
     },
     "execution_count": 14,
     "metadata": {},
     "output_type": "execute_result"
    }
   ],
   "source": [
    "data"
   ]
  },
  {
   "cell_type": "code",
   "execution_count": 15,
   "metadata": {
    "colab": {
     "base_uri": "https://localhost:8080/"
    },
    "executionInfo": {
     "elapsed": 207,
     "status": "ok",
     "timestamp": 1654551199455,
     "user": {
      "displayName": "Yalin Bastanlar",
      "userId": "07407514109940480382"
     },
     "user_tz": 240
    },
    "id": "i6ISgoxxnA7v",
    "outputId": "068b2c28-c19e-493b-d775-b4a4f32381a6"
   },
   "outputs": [
    {
     "name": "stdout",
     "output_type": "stream",
     "text": [
      ".. _boston_dataset:\n",
      "\n",
      "Boston house prices dataset\n",
      "---------------------------\n",
      "\n",
      "**Data Set Characteristics:**  \n",
      "\n",
      "    :Number of Instances: 506 \n",
      "\n",
      "    :Number of Attributes: 13 numeric/categorical predictive. Median Value (attribute 14) is usually the target.\n",
      "\n",
      "    :Attribute Information (in order):\n",
      "        - CRIM     per capita crime rate by town\n",
      "        - ZN       proportion of residential land zoned for lots over 25,000 sq.ft.\n",
      "        - INDUS    proportion of non-retail business acres per town\n",
      "        - CHAS     Charles River dummy variable (= 1 if tract bounds river; 0 otherwise)\n",
      "        - NOX      nitric oxides concentration (parts per 10 million)\n",
      "        - RM       average number of rooms per dwelling\n",
      "        - AGE      proportion of owner-occupied units built prior to 1940\n",
      "        - DIS      weighted distances to five Boston employment centres\n",
      "        - RAD      index of accessibility to radial highways\n",
      "        - TAX      full-value property-tax rate per $10,000\n",
      "        - PTRATIO  pupil-teacher ratio by town\n",
      "        - B        1000(Bk - 0.63)^2 where Bk is the proportion of black people by town\n",
      "        - LSTAT    % lower status of the population\n",
      "        - MEDV     Median value of owner-occupied homes in $1000's\n",
      "\n",
      "    :Missing Attribute Values: None\n",
      "\n",
      "    :Creator: Harrison, D. and Rubinfeld, D.L.\n",
      "\n",
      "This is a copy of UCI ML housing dataset.\n",
      "https://archive.ics.uci.edu/ml/machine-learning-databases/housing/\n",
      "\n",
      "\n",
      "This dataset was taken from the StatLib library which is maintained at Carnegie Mellon University.\n",
      "\n",
      "The Boston house-price data of Harrison, D. and Rubinfeld, D.L. 'Hedonic\n",
      "prices and the demand for clean air', J. Environ. Economics & Management,\n",
      "vol.5, 81-102, 1978.   Used in Belsley, Kuh & Welsch, 'Regression diagnostics\n",
      "...', Wiley, 1980.   N.B. Various transformations are used in the table on\n",
      "pages 244-261 of the latter.\n",
      "\n",
      "The Boston house-price data has been used in many machine learning papers that address regression\n",
      "problems.   \n",
      "     \n",
      ".. topic:: References\n",
      "\n",
      "   - Belsley, Kuh & Welsch, 'Regression diagnostics: Identifying Influential Data and Sources of Collinearity', Wiley, 1980. 244-261.\n",
      "   - Quinlan,R. (1993). Combining Instance-Based and Model-Based Learning. In Proceedings on the Tenth International Conference of Machine Learning, 236-243, University of Massachusetts, Amherst. Morgan Kaufmann.\n",
      "\n"
     ]
    }
   ],
   "source": [
    "print(data.DESCR)"
   ]
  },
  {
   "cell_type": "code",
   "execution_count": 16,
   "metadata": {
    "executionInfo": {
     "elapsed": 153,
     "status": "ok",
     "timestamp": 1654551204492,
     "user": {
      "displayName": "Yalin Bastanlar",
      "userId": "07407514109940480382"
     },
     "user_tz": 240
    },
    "id": "xYIH9jLziNkp"
   },
   "outputs": [],
   "source": [
    "housing_df = pd.DataFrame(data=np.c_[data['data'], data['target']],columns= list(data['feature_names']) + ['target'])"
   ]
  },
  {
   "cell_type": "code",
   "execution_count": 17,
   "metadata": {
    "colab": {
     "base_uri": "https://localhost:8080/",
     "height": 206
    },
    "executionInfo": {
     "elapsed": 162,
     "status": "ok",
     "timestamp": 1654551205758,
     "user": {
      "displayName": "Yalin Bastanlar",
      "userId": "07407514109940480382"
     },
     "user_tz": 240
    },
    "id": "s4__x4mrjEFi",
    "outputId": "ef2f5208-d1ee-4cb6-ac84-61db47fd0c55"
   },
   "outputs": [
    {
     "data": {
      "text/html": [
       "<div>\n",
       "<style scoped>\n",
       "    .dataframe tbody tr th:only-of-type {\n",
       "        vertical-align: middle;\n",
       "    }\n",
       "\n",
       "    .dataframe tbody tr th {\n",
       "        vertical-align: top;\n",
       "    }\n",
       "\n",
       "    .dataframe thead th {\n",
       "        text-align: right;\n",
       "    }\n",
       "</style>\n",
       "<table border=\"1\" class=\"dataframe\">\n",
       "  <thead>\n",
       "    <tr style=\"text-align: right;\">\n",
       "      <th></th>\n",
       "      <th>CRIM</th>\n",
       "      <th>ZN</th>\n",
       "      <th>INDUS</th>\n",
       "      <th>CHAS</th>\n",
       "      <th>NOX</th>\n",
       "      <th>RM</th>\n",
       "      <th>AGE</th>\n",
       "      <th>DIS</th>\n",
       "      <th>RAD</th>\n",
       "      <th>TAX</th>\n",
       "      <th>PTRATIO</th>\n",
       "      <th>B</th>\n",
       "      <th>LSTAT</th>\n",
       "      <th>target</th>\n",
       "    </tr>\n",
       "  </thead>\n",
       "  <tbody>\n",
       "    <tr>\n",
       "      <th>0</th>\n",
       "      <td>0.00632</td>\n",
       "      <td>18.0</td>\n",
       "      <td>2.31</td>\n",
       "      <td>0.0</td>\n",
       "      <td>0.538</td>\n",
       "      <td>6.575</td>\n",
       "      <td>65.2</td>\n",
       "      <td>4.0900</td>\n",
       "      <td>1.0</td>\n",
       "      <td>296.0</td>\n",
       "      <td>15.3</td>\n",
       "      <td>396.90</td>\n",
       "      <td>4.98</td>\n",
       "      <td>24.0</td>\n",
       "    </tr>\n",
       "    <tr>\n",
       "      <th>1</th>\n",
       "      <td>0.02731</td>\n",
       "      <td>0.0</td>\n",
       "      <td>7.07</td>\n",
       "      <td>0.0</td>\n",
       "      <td>0.469</td>\n",
       "      <td>6.421</td>\n",
       "      <td>78.9</td>\n",
       "      <td>4.9671</td>\n",
       "      <td>2.0</td>\n",
       "      <td>242.0</td>\n",
       "      <td>17.8</td>\n",
       "      <td>396.90</td>\n",
       "      <td>9.14</td>\n",
       "      <td>21.6</td>\n",
       "    </tr>\n",
       "    <tr>\n",
       "      <th>2</th>\n",
       "      <td>0.02729</td>\n",
       "      <td>0.0</td>\n",
       "      <td>7.07</td>\n",
       "      <td>0.0</td>\n",
       "      <td>0.469</td>\n",
       "      <td>7.185</td>\n",
       "      <td>61.1</td>\n",
       "      <td>4.9671</td>\n",
       "      <td>2.0</td>\n",
       "      <td>242.0</td>\n",
       "      <td>17.8</td>\n",
       "      <td>392.83</td>\n",
       "      <td>4.03</td>\n",
       "      <td>34.7</td>\n",
       "    </tr>\n",
       "    <tr>\n",
       "      <th>3</th>\n",
       "      <td>0.03237</td>\n",
       "      <td>0.0</td>\n",
       "      <td>2.18</td>\n",
       "      <td>0.0</td>\n",
       "      <td>0.458</td>\n",
       "      <td>6.998</td>\n",
       "      <td>45.8</td>\n",
       "      <td>6.0622</td>\n",
       "      <td>3.0</td>\n",
       "      <td>222.0</td>\n",
       "      <td>18.7</td>\n",
       "      <td>394.63</td>\n",
       "      <td>2.94</td>\n",
       "      <td>33.4</td>\n",
       "    </tr>\n",
       "    <tr>\n",
       "      <th>4</th>\n",
       "      <td>0.06905</td>\n",
       "      <td>0.0</td>\n",
       "      <td>2.18</td>\n",
       "      <td>0.0</td>\n",
       "      <td>0.458</td>\n",
       "      <td>7.147</td>\n",
       "      <td>54.2</td>\n",
       "      <td>6.0622</td>\n",
       "      <td>3.0</td>\n",
       "      <td>222.0</td>\n",
       "      <td>18.7</td>\n",
       "      <td>396.90</td>\n",
       "      <td>5.33</td>\n",
       "      <td>36.2</td>\n",
       "    </tr>\n",
       "  </tbody>\n",
       "</table>\n",
       "</div>"
      ],
      "text/plain": [
       "      CRIM    ZN  INDUS  CHAS    NOX     RM   AGE     DIS  RAD    TAX  \\\n",
       "0  0.00632  18.0   2.31   0.0  0.538  6.575  65.2  4.0900  1.0  296.0   \n",
       "1  0.02731   0.0   7.07   0.0  0.469  6.421  78.9  4.9671  2.0  242.0   \n",
       "2  0.02729   0.0   7.07   0.0  0.469  7.185  61.1  4.9671  2.0  242.0   \n",
       "3  0.03237   0.0   2.18   0.0  0.458  6.998  45.8  6.0622  3.0  222.0   \n",
       "4  0.06905   0.0   2.18   0.0  0.458  7.147  54.2  6.0622  3.0  222.0   \n",
       "\n",
       "   PTRATIO       B  LSTAT  target  \n",
       "0     15.3  396.90   4.98    24.0  \n",
       "1     17.8  396.90   9.14    21.6  \n",
       "2     17.8  392.83   4.03    34.7  \n",
       "3     18.7  394.63   2.94    33.4  \n",
       "4     18.7  396.90   5.33    36.2  "
      ]
     },
     "execution_count": 17,
     "metadata": {},
     "output_type": "execute_result"
    }
   ],
   "source": [
    "housing_df.head()"
   ]
  },
  {
   "cell_type": "code",
   "execution_count": 18,
   "metadata": {
    "colab": {
     "base_uri": "https://localhost:8080/",
     "height": 364
    },
    "executionInfo": {
     "elapsed": 180,
     "status": "ok",
     "timestamp": 1654541509844,
     "user": {
      "displayName": "Yalin Bastanlar",
      "userId": "07407514109940480382"
     },
     "user_tz": 240
    },
    "id": "KKioNFycgDb8",
    "outputId": "bc5f868a-fee2-4f9f-f7c7-a2b8b0a6d9dc",
    "scrolled": true
   },
   "outputs": [
    {
     "data": {
      "text/html": [
       "<div>\n",
       "<style scoped>\n",
       "    .dataframe tbody tr th:only-of-type {\n",
       "        vertical-align: middle;\n",
       "    }\n",
       "\n",
       "    .dataframe tbody tr th {\n",
       "        vertical-align: top;\n",
       "    }\n",
       "\n",
       "    .dataframe thead th {\n",
       "        text-align: right;\n",
       "    }\n",
       "</style>\n",
       "<table border=\"1\" class=\"dataframe\">\n",
       "  <thead>\n",
       "    <tr style=\"text-align: right;\">\n",
       "      <th></th>\n",
       "      <th>CRIM</th>\n",
       "      <th>ZN</th>\n",
       "      <th>INDUS</th>\n",
       "      <th>CHAS</th>\n",
       "      <th>NOX</th>\n",
       "      <th>RM</th>\n",
       "      <th>AGE</th>\n",
       "      <th>DIS</th>\n",
       "      <th>RAD</th>\n",
       "      <th>TAX</th>\n",
       "      <th>PTRATIO</th>\n",
       "      <th>B</th>\n",
       "      <th>LSTAT</th>\n",
       "      <th>target</th>\n",
       "    </tr>\n",
       "  </thead>\n",
       "  <tbody>\n",
       "    <tr>\n",
       "      <th>count</th>\n",
       "      <td>506.000000</td>\n",
       "      <td>506.000000</td>\n",
       "      <td>506.000000</td>\n",
       "      <td>506.000000</td>\n",
       "      <td>506.000000</td>\n",
       "      <td>506.000000</td>\n",
       "      <td>506.000000</td>\n",
       "      <td>506.000000</td>\n",
       "      <td>506.000000</td>\n",
       "      <td>506.000000</td>\n",
       "      <td>506.000000</td>\n",
       "      <td>506.000000</td>\n",
       "      <td>506.000000</td>\n",
       "      <td>506.000000</td>\n",
       "    </tr>\n",
       "    <tr>\n",
       "      <th>mean</th>\n",
       "      <td>3.613524</td>\n",
       "      <td>11.363636</td>\n",
       "      <td>11.136779</td>\n",
       "      <td>0.069170</td>\n",
       "      <td>0.554695</td>\n",
       "      <td>6.284634</td>\n",
       "      <td>68.574901</td>\n",
       "      <td>3.795043</td>\n",
       "      <td>9.549407</td>\n",
       "      <td>408.237154</td>\n",
       "      <td>18.455534</td>\n",
       "      <td>356.674032</td>\n",
       "      <td>12.653063</td>\n",
       "      <td>22.532806</td>\n",
       "    </tr>\n",
       "    <tr>\n",
       "      <th>std</th>\n",
       "      <td>8.601545</td>\n",
       "      <td>23.322453</td>\n",
       "      <td>6.860353</td>\n",
       "      <td>0.253994</td>\n",
       "      <td>0.115878</td>\n",
       "      <td>0.702617</td>\n",
       "      <td>28.148861</td>\n",
       "      <td>2.105710</td>\n",
       "      <td>8.707259</td>\n",
       "      <td>168.537116</td>\n",
       "      <td>2.164946</td>\n",
       "      <td>91.294864</td>\n",
       "      <td>7.141062</td>\n",
       "      <td>9.197104</td>\n",
       "    </tr>\n",
       "    <tr>\n",
       "      <th>min</th>\n",
       "      <td>0.006320</td>\n",
       "      <td>0.000000</td>\n",
       "      <td>0.460000</td>\n",
       "      <td>0.000000</td>\n",
       "      <td>0.385000</td>\n",
       "      <td>3.561000</td>\n",
       "      <td>2.900000</td>\n",
       "      <td>1.129600</td>\n",
       "      <td>1.000000</td>\n",
       "      <td>187.000000</td>\n",
       "      <td>12.600000</td>\n",
       "      <td>0.320000</td>\n",
       "      <td>1.730000</td>\n",
       "      <td>5.000000</td>\n",
       "    </tr>\n",
       "    <tr>\n",
       "      <th>25%</th>\n",
       "      <td>0.082045</td>\n",
       "      <td>0.000000</td>\n",
       "      <td>5.190000</td>\n",
       "      <td>0.000000</td>\n",
       "      <td>0.449000</td>\n",
       "      <td>5.885500</td>\n",
       "      <td>45.025000</td>\n",
       "      <td>2.100175</td>\n",
       "      <td>4.000000</td>\n",
       "      <td>279.000000</td>\n",
       "      <td>17.400000</td>\n",
       "      <td>375.377500</td>\n",
       "      <td>6.950000</td>\n",
       "      <td>17.025000</td>\n",
       "    </tr>\n",
       "    <tr>\n",
       "      <th>50%</th>\n",
       "      <td>0.256510</td>\n",
       "      <td>0.000000</td>\n",
       "      <td>9.690000</td>\n",
       "      <td>0.000000</td>\n",
       "      <td>0.538000</td>\n",
       "      <td>6.208500</td>\n",
       "      <td>77.500000</td>\n",
       "      <td>3.207450</td>\n",
       "      <td>5.000000</td>\n",
       "      <td>330.000000</td>\n",
       "      <td>19.050000</td>\n",
       "      <td>391.440000</td>\n",
       "      <td>11.360000</td>\n",
       "      <td>21.200000</td>\n",
       "    </tr>\n",
       "    <tr>\n",
       "      <th>75%</th>\n",
       "      <td>3.677083</td>\n",
       "      <td>12.500000</td>\n",
       "      <td>18.100000</td>\n",
       "      <td>0.000000</td>\n",
       "      <td>0.624000</td>\n",
       "      <td>6.623500</td>\n",
       "      <td>94.075000</td>\n",
       "      <td>5.188425</td>\n",
       "      <td>24.000000</td>\n",
       "      <td>666.000000</td>\n",
       "      <td>20.200000</td>\n",
       "      <td>396.225000</td>\n",
       "      <td>16.955000</td>\n",
       "      <td>25.000000</td>\n",
       "    </tr>\n",
       "    <tr>\n",
       "      <th>max</th>\n",
       "      <td>88.976200</td>\n",
       "      <td>100.000000</td>\n",
       "      <td>27.740000</td>\n",
       "      <td>1.000000</td>\n",
       "      <td>0.871000</td>\n",
       "      <td>8.780000</td>\n",
       "      <td>100.000000</td>\n",
       "      <td>12.126500</td>\n",
       "      <td>24.000000</td>\n",
       "      <td>711.000000</td>\n",
       "      <td>22.000000</td>\n",
       "      <td>396.900000</td>\n",
       "      <td>37.970000</td>\n",
       "      <td>50.000000</td>\n",
       "    </tr>\n",
       "  </tbody>\n",
       "</table>\n",
       "</div>"
      ],
      "text/plain": [
       "             CRIM          ZN       INDUS        CHAS         NOX          RM  \\\n",
       "count  506.000000  506.000000  506.000000  506.000000  506.000000  506.000000   \n",
       "mean     3.613524   11.363636   11.136779    0.069170    0.554695    6.284634   \n",
       "std      8.601545   23.322453    6.860353    0.253994    0.115878    0.702617   \n",
       "min      0.006320    0.000000    0.460000    0.000000    0.385000    3.561000   \n",
       "25%      0.082045    0.000000    5.190000    0.000000    0.449000    5.885500   \n",
       "50%      0.256510    0.000000    9.690000    0.000000    0.538000    6.208500   \n",
       "75%      3.677083   12.500000   18.100000    0.000000    0.624000    6.623500   \n",
       "max     88.976200  100.000000   27.740000    1.000000    0.871000    8.780000   \n",
       "\n",
       "              AGE         DIS         RAD         TAX     PTRATIO           B  \\\n",
       "count  506.000000  506.000000  506.000000  506.000000  506.000000  506.000000   \n",
       "mean    68.574901    3.795043    9.549407  408.237154   18.455534  356.674032   \n",
       "std     28.148861    2.105710    8.707259  168.537116    2.164946   91.294864   \n",
       "min      2.900000    1.129600    1.000000  187.000000   12.600000    0.320000   \n",
       "25%     45.025000    2.100175    4.000000  279.000000   17.400000  375.377500   \n",
       "50%     77.500000    3.207450    5.000000  330.000000   19.050000  391.440000   \n",
       "75%     94.075000    5.188425   24.000000  666.000000   20.200000  396.225000   \n",
       "max    100.000000   12.126500   24.000000  711.000000   22.000000  396.900000   \n",
       "\n",
       "            LSTAT      target  \n",
       "count  506.000000  506.000000  \n",
       "mean    12.653063   22.532806  \n",
       "std      7.141062    9.197104  \n",
       "min      1.730000    5.000000  \n",
       "25%      6.950000   17.025000  \n",
       "50%     11.360000   21.200000  \n",
       "75%     16.955000   25.000000  \n",
       "max     37.970000   50.000000  "
      ]
     },
     "execution_count": 18,
     "metadata": {},
     "output_type": "execute_result"
    }
   ],
   "source": [
    "housing_df.describe()"
   ]
  },
  {
   "cell_type": "code",
   "execution_count": 19,
   "metadata": {
    "colab": {
     "base_uri": "https://localhost:8080/",
     "height": 282
    },
    "executionInfo": {
     "elapsed": 705,
     "status": "ok",
     "timestamp": 1654551210447,
     "user": {
      "displayName": "Yalin Bastanlar",
      "userId": "07407514109940480382"
     },
     "user_tz": 240
    },
    "id": "WXB0PZc1gG71",
    "outputId": "06f3ab1e-f07c-4911-e819-026666a5d9ff"
   },
   "outputs": [
    {
     "data": {
      "text/plain": [
       "<AxesSubplot:>"
      ]
     },
     "execution_count": 19,
     "metadata": {},
     "output_type": "execute_result"
    },
    {
     "data": {
      "image/png": "[encoded data removed]",
      "text/plain": [
       "<Figure size 432x288 with 1 Axes>"
      ]
     },
     "metadata": {
      "needs_background": "light"
     },
     "output_type": "display_data"
    }
   ],
   "source": [
    "housing_df.plot.box()"
   ]
  },
  {
   "cell_type": "code",
   "execution_count": 20,
   "metadata": {
    "colab": {
     "base_uri": "https://localhost:8080/",
     "height": 282
    },
    "executionInfo": {
     "elapsed": 403,
     "status": "ok",
     "timestamp": 1654551234262,
     "user": {
      "displayName": "Yalin Bastanlar",
      "userId": "07407514109940480382"
     },
     "user_tz": 240
    },
    "id": "WItcRNQtg4xf",
    "outputId": "85eb7540-bd76-44d7-e76c-8b96f8588882"
   },
   "outputs": [
    {
     "data": {
      "text/plain": [
       "<AxesSubplot:>"
      ]
     },
     "execution_count": 20,
     "metadata": {},
     "output_type": "execute_result"
    },
    {
     "data": {
      "image/png": "[encoded data removed]",
      "text/plain": [
       "<Figure size 432x288 with 1 Axes>"
      ]
     },
     "metadata": {
      "needs_background": "light"
     },
     "output_type": "display_data"
    }
   ],
   "source": [
    "housing_df[['CHAS','NOX']].plot.box()"
   ]
  },
  {
   "cell_type": "code",
   "execution_count": 21,
   "metadata": {
    "colab": {
     "base_uri": "https://localhost:8080/",
     "height": 1000
    },
    "executionInfo": {
     "elapsed": 1494,
     "status": "ok",
     "timestamp": 1654551498236,
     "user": {
      "displayName": "Yalin Bastanlar",
      "userId": "07407514109940480382"
     },
     "user_tz": 240
    },
    "id": "zmHwjqhGgUVq",
    "outputId": "210ce6ac-381b-4048-a912-8a0db68ebd5d"
   },
   "outputs": [
    {
     "data": {
      "text/plain": [
       "<AxesSubplot:xlabel='NOX', ylabel='target'>"
      ]
     },
     "execution_count": 21,
     "metadata": {},
     "output_type": "execute_result"
    },
    {
     "data": {
      "image/png": "[encoded data removed]",
      "text/plain": [
       "<Figure size 432x288 with 1 Axes>"
      ]
     },
     "metadata": {
      "needs_background": "light"
     },
     "output_type": "display_data"
    },
    {
     "data": {
      "image/png": "[encoded data removed]",
      "text/plain": [
       "<Figure size 432x288 with 1 Axes>"
      ]
     },
     "metadata": {
      "needs_background": "light"
     },
     "output_type": "display_data"
    },
    {
     "data": {
      "image/png": "[encoded data removed]",
      "text/plain": [
       "<Figure size 432x288 with 1 Axes>"
      ]
     },
     "metadata": {
      "needs_background": "light"
     },
     "output_type": "display_data"
    },
    {
     "data": {
      "image/png": "[encoded data removed]",
      "text/plain": [
       "<Figure size 432x288 with 1 Axes>"
      ]
     },
     "metadata": {
      "needs_background": "light"
     },
     "output_type": "display_data"
    },
    {
     "data": {
      "image/png": "[encoded data removed]",
      "text/plain": [
       "<Figure size 432x288 with 1 Axes>"
      ]
     },
     "metadata": {
      "needs_background": "light"
     },
     "output_type": "display_data"
    },
    {
     "data": {
      "image/png": "[encoded data removed]",
      "text/plain": [
       "<Figure size 432x288 with 1 Axes>"
      ]
     },
     "metadata": {
      "needs_background": "light"
     },
     "output_type": "display_data"
    },
    {
     "data": {
      "image/png": "[encoded data removed]",
      "text/plain": [
       "<Figure size 432x288 with 1 Axes>"
      ]
     },
     "metadata": {
      "needs_background": "light"
     },
     "output_type": "display_data"
    },
    {
     "data": {
      "image/png": "[encoded data removed]",
      "text/plain": [
       "<Figure size 432x288 with 1 Axes>"
      ]
     },
     "metadata": {
      "needs_background": "light"
     },
     "output_type": "display_data"
    }
   ],
   "source": [
    "housing_df.plot.scatter(x='PTRATIO',y='target')   #pupil-teacher ratio by town\n",
    "housing_df.plot.scatter(x='DIS',y='target')  #weighted distances to five Boston employment centres\n",
    "housing_df.plot.scatter(x='RAD',y='target')  #index of accessibility to radial highways\n",
    "housing_df.plot.scatter(x='TAX',y='target')  #full-value property-tax rate per $10,000\n",
    "housing_df.plot.scatter(x='LSTAT',y='target')  #% lower status of the population\n",
    "housing_df.plot.scatter(x='AGE',y='target')   #proportion of owner-occupied units built prior to 1940\n",
    "housing_df.plot.scatter(x='CHAS',y='target')  #Charles River dummy variable (= 1 if tract bounds river; 0 otherwise)\n",
    "housing_df.plot.scatter(x='NOX',y='target')  #nitric oxides concentration (parts per 10 million)"
   ]
  },
  {
   "cell_type": "code",
   "execution_count": 22,
   "metadata": {
    "executionInfo": {
     "elapsed": 155,
     "status": "ok",
     "timestamp": 1654551566875,
     "user": {
      "displayName": "Yalin Bastanlar",
      "userId": "07407514109940480382"
     },
     "user_tz": 240
    },
    "id": "y6LPYtz1xzKB"
   },
   "outputs": [],
   "source": [
    "lr = LinearRegression()\n",
    "X=housing_df[['CRIM',\t'ZN',\t'INDUS',\t'CHAS',\t'NOX',\t'RM',\t'AGE',\t'DIS',\t'RAD',\t'TAX',\t'PTRATIO',\t'B',\t'LSTAT']]\n",
    "y=housing_df['target']"
   ]
  },
  {
   "cell_type": "code",
   "execution_count": 23,
   "metadata": {
    "colab": {
     "base_uri": "https://localhost:8080/"
    },
    "executionInfo": {
     "elapsed": 219,
     "status": "ok",
     "timestamp": 1654551572209,
     "user": {
      "displayName": "Yalin Bastanlar",
      "userId": "07407514109940480382"
     },
     "user_tz": 240
    },
    "id": "lY6DLO1yx3a1",
    "outputId": "c77f183d-4617-45f5-cad8-2db31b434d59"
   },
   "outputs": [
    {
     "data": {
      "text/plain": [
       "LinearRegression()"
      ]
     },
     "execution_count": 23,
     "metadata": {},
     "output_type": "execute_result"
    }
   ],
   "source": [
    "lr.fit(X,y)\n",
    "#help(lr)"
   ]
  },
  {
   "cell_type": "code",
   "execution_count": 24,
   "metadata": {
    "colab": {
     "base_uri": "https://localhost:8080/"
    },
    "executionInfo": {
     "elapsed": 151,
     "status": "ok",
     "timestamp": 1654551603698,
     "user": {
      "displayName": "Yalin Bastanlar",
      "userId": "07407514109940480382"
     },
     "user_tz": 240
    },
    "id": "DOERofvzjLLG",
    "outputId": "bfd35989-4a86-466f-85a0-fe4305b3d75f"
   },
   "outputs": [
    {
     "name": "stdout",
     "output_type": "stream",
     "text": [
      "[23533.34054667]\n",
      "22400.0\n"
     ]
    }
   ],
   "source": [
    "print(lr.predict([X.iloc[501]])*1000)\n",
    "#print((np.dot(lr.coef_,X.iloc[501])+lr.intercept_)*1000)\n",
    "print(y.iloc[501]*1000)"
   ]
  },
  {
   "cell_type": "code",
   "execution_count": 25,
   "metadata": {
    "colab": {
     "base_uri": "https://localhost:8080/"
    },
    "executionInfo": {
     "elapsed": 200,
     "status": "ok",
     "timestamp": 1654551633715,
     "user": {
      "displayName": "Yalin Bastanlar",
      "userId": "07407514109940480382"
     },
     "user_tz": 240
    },
    "id": "yAViweOml_wU",
    "outputId": "23167b78-ac2c-4019-f178-8e4e3a0d5f46"
   },
   "outputs": [
    {
     "name": "stdout",
     "output_type": "stream",
     "text": [
      "0.7406426641094095\n",
      "Help on method score in module sklearn.base:\n",
      "\n",
      "score(X, y, sample_weight=None) method of sklearn.linear_model._base.LinearRegression instance\n",
      "    Return the coefficient of determination :math:`R^2` of the\n",
      "    prediction.\n",
      "    \n",
      "    The coefficient :math:`R^2` is defined as :math:`(1 - \\frac{u}{v})`,\n",
      "    where :math:`u` is the residual sum of squares ``((y_true - y_pred)\n",
      "    ** 2).sum()`` and :math:`v` is the total sum of squares ``((y_true -\n",
      "    y_true.mean()) ** 2).sum()``. The best possible score is 1.0 and it\n",
      "    can be negative (because the model can be arbitrarily worse). A\n",
      "    constant model that always predicts the expected value of `y`,\n",
      "    disregarding the input features, would get a :math:`R^2` score of\n",
      "    0.0.\n",
      "    \n",
      "    Parameters\n",
      "    ----------\n",
      "    X : array-like of shape (n_samples, n_features)\n",
      "        Test samples. For some estimators this may be a precomputed\n",
      "        kernel matrix or a list of generic objects instead with shape\n",
      "        ``(n_samples, n_samples_fitted)``, where ``n_samples_fitted``\n",
      "        is the number of samples used in the fitting for the estimator.\n",
      "    \n",
      "    y : array-like of shape (n_samples,) or (n_samples, n_outputs)\n",
      "        True values for `X`.\n",
      "    \n",
      "    sample_weight : array-like of shape (n_samples,), default=None\n",
      "        Sample weights.\n",
      "    \n",
      "    Returns\n",
      "    -------\n",
      "    score : float\n",
      "        :math:`R^2` of ``self.predict(X)`` wrt. `y`.\n",
      "    \n",
      "    Notes\n",
      "    -----\n",
      "    The :math:`R^2` score used when calling ``score`` on a regressor uses\n",
      "    ``multioutput='uniform_average'`` from version 0.23 to keep consistent\n",
      "    with default value of :func:`~sklearn.metrics.r2_score`.\n",
      "    This influences the ``score`` method of all the multioutput\n",
      "    regressors (except for\n",
      "    :class:`~sklearn.multioutput.MultiOutputRegressor`).\n",
      "\n"
     ]
    }
   ],
   "source": [
    "print(lr.score(X,y))\n",
    "help(lr.score)"
   ]
  },
  {
   "cell_type": "code",
   "execution_count": 26,
   "metadata": {
    "colab": {
     "base_uri": "https://localhost:8080/"
    },
    "executionInfo": {
     "elapsed": 166,
     "status": "ok",
     "timestamp": 1654551673394,
     "user": {
      "displayName": "Yalin Bastanlar",
      "userId": "07407514109940480382"
     },
     "user_tz": 240
    },
    "id": "o-BBxtoKkNCE",
    "outputId": "7d67589d-d3bb-402c-8b0b-4889ef33bf6a"
   },
   "outputs": [
    {
     "name": "stdout",
     "output_type": "stream",
     "text": [
      "[-1.08011358e-01  4.64204584e-02  2.05586264e-02  2.68673382e+00\n",
      " -1.77666112e+01  3.80986521e+00  6.92224640e-04 -1.47556685e+00\n",
      "  3.06049479e-01 -1.23345939e-02 -9.52747232e-01  9.31168327e-03\n",
      " -5.24758378e-01]\n",
      "36.459488385089855\n"
     ]
    }
   ],
   "source": [
    "print(lr.coef_)\n",
    "print(lr.intercept_)"
   ]
  },
  {
   "cell_type": "markdown",
   "metadata": {
    "id": "voSJthY6z0BZ"
   },
   "source": [
    "# Homework #1   Due date: 18 June 2022, 11:59 PM\n",
    "\n",
    "## Q1) One feature regression for Boston data. \n",
    "Choose one of the features in Boston data, try to select one that is mostly correlated (or inversely correlated) with the target. Fit a line with linear Regression. What is the equation of the fitting line? Please plot your data points (chosen feature vs. target) and plot your fitting line on it.\n",
    "\n",
    "## Q2) Another metric for performance evaluation\n",
    "We have seen that LinearRegression() by *sklearn* provides a method called *score* which outputs a value with a maximum of 1 (the larger the better), which is good to evaluate the performance. \n",
    "Another common performance metric is mean sum of squared error (MSSE):\n",
    "\n",
    "$$\\frac{1}{m} \\sum_{i=1}^m \\left(\\underbrace{\\theta^T x^{(i)}}_{\\text{Prediction}} - \\underbrace{y^{(i)}}_{\\text{Target}}\\right)^2$$\n",
    "\n",
    "Please implement this metric and compute it when Boston data with all features are used. lr.score gave 0.74. What is the MSSE?\n",
    "\n",
    "Important restriction: Do NOT use *mean_squared_error* module from *sklearn.metrics*.\n",
    "\n"
   ]
  },
  {
   "cell_type": "markdown",
   "metadata": {},
   "source": [
    "#### Q1) One feature regression for Boston data. "
   ]
  },
  {
   "cell_type": "code",
   "execution_count": 32,
   "metadata": {},
   "outputs": [],
   "source": [
    "correlationmatrix=housing_df.corr()                           #getting the correlation matrix using .corr()"
   ]
  },
  {
   "cell_type": "code",
   "execution_count": 33,
   "metadata": {},
   "outputs": [],
   "source": [
    "import seaborn as sns                               #importing seaborn for plotting"
   ]
  },
  {
   "cell_type": "code",
   "execution_count": 39,
   "metadata": {},
   "outputs": [
    {
     "data": {
      "text/plain": [
       "<AxesSubplot:>"
      ]
     },
     "execution_count": 39,
     "metadata": {},
     "output_type": "execute_result"
    },
    {
     "data": {
      "image/png": "[encoded data removed]",
      "text/plain": [
       "<Figure size 1080x1080 with 2 Axes>"
      ]
     },
     "metadata": {
      "needs_background": "light"
     },
     "output_type": "display_data"
    }
   ],
   "source": [
    "pyplot.subplots(figsize=(15,15))\n",
    "sns.heatmap(correlationmatrix, annot=True, center=0)"
   ]
  },
  {
   "cell_type": "markdown",
   "metadata": {},
   "source": [
    "We can see from the correlation matrices above that there are two characteristics that have a near-70 percent connection with the objective\n",
    "(i). \"RM\" is 70% directly connected to the target\n",
    "(ii). \"LSAT\" has a 74 percent inversly associated relationship with the target\n",
    "\n",
    "I'd want to choose \"LSAT\" because it has a strong correlation."
   ]
  },
  {
   "cell_type": "code",
   "execution_count": 40,
   "metadata": {},
   "outputs": [
    {
     "data": {
      "text/plain": [
       "<matplotlib.collections.PathCollection at 0x293e08f8250>"
      ]
     },
     "execution_count": 40,
     "metadata": {},
     "output_type": "execute_result"
    },
    {
     "data": {
      "image/png": "[encoded data removed]",
      "text/plain": [
       "<Figure size 432x288 with 1 Axes>"
      ]
     },
     "metadata": {
      "needs_background": "light"
     },
     "output_type": "display_data"
    }
   ],
   "source": [
    "pyplot.xlabel(\"target\")\n",
    "pyplot.ylabel(\"LSTAT\")\n",
    "pyplot.scatter(housing_df.target,housing_df.LSTAT)"
   ]
  },
  {
   "cell_type": "markdown",
   "metadata": {},
   "source": [
    "A straight line has the equation y = mx + b, where m is the slope and b is the intercept.\n",
    "For one feature linear regression model, \"X\" values are the inputs that will be given to the model to discover \"Y\" in this model \"X\" = \"LSTAT,\" \"Y\" = \"target.\""
   ]
  },
  {
   "cell_type": "code",
   "execution_count": 41,
   "metadata": {},
   "outputs": [
    {
     "name": "stdout",
     "output_type": "stream",
     "text": [
      "(506, 1)\n",
      "(506, 1)\n"
     ]
    }
   ],
   "source": [
    "X=housing_df.LSTAT.values.reshape(-1,1)\n",
    "Y=housing_df.target.values.reshape(-1,1)\n",
    "print(X.shape)\n",
    "print(Y.shape)"
   ]
  },
  {
   "cell_type": "code",
   "execution_count": 42,
   "metadata": {},
   "outputs": [
    {
     "data": {
      "text/plain": [
       "LinearRegression()"
      ]
     },
     "execution_count": 42,
     "metadata": {},
     "output_type": "execute_result"
    }
   ],
   "source": [
    "lr= LinearRegression()\n",
    "lr.fit(X,Y)"
   ]
  },
  {
   "cell_type": "code",
   "execution_count": 43,
   "metadata": {},
   "outputs": [
    {
     "data": {
      "text/plain": [
       "(array([[-0.95004935]]), array([34.55384088]))"
      ]
     },
     "execution_count": 43,
     "metadata": {},
     "output_type": "execute_result"
    }
   ],
   "source": [
    "lr.coef_, lr.intercept_"
   ]
  },
  {
   "cell_type": "code",
   "execution_count": 44,
   "metadata": {},
   "outputs": [
    {
     "data": {
      "text/plain": [
       "29.822595117000002"
      ]
     },
     "execution_count": 44,
     "metadata": {},
     "output_type": "execute_result"
    }
   ],
   "source": [
    "#Y=(coeff*X)+intercept\n",
    "lr_equation= (-0.95004935*4.98)+34.55384088                      #lets try for LSTAT value as 4.98\n",
    "lr_equation"
   ]
  },
  {
   "cell_type": "code",
   "execution_count": 47,
   "metadata": {},
   "outputs": [
    {
     "data": {
      "text/plain": [
       "[<matplotlib.lines.Line2D at 0x293dfecee80>]"
      ]
     },
     "execution_count": 47,
     "metadata": {},
     "output_type": "execute_result"
    },
    {
     "data": {
      "image/png": "[encoded data removed]",
      "text/plain": [
       "<Figure size 432x288 with 1 Axes>"
      ]
     },
     "metadata": {
      "needs_background": "light"
     },
     "output_type": "display_data"
    }
   ],
   "source": [
    "pyplot.xlabel('target')                                              #plotting the fit line\n",
    "pyplot.ylabel('LSTAT')\n",
    "pyplot.scatter(housing_df.target,housing_df.LSTAT)\n",
    "pyplot.plot(housing_df.target,lr.predict(housing_df[['target']]),color='green')"
   ]
  },
  {
   "cell_type": "markdown",
   "metadata": {},
   "source": [
    "#### Q2) Another metric for performance evaluation"
   ]
  },
  {
   "cell_type": "code",
   "execution_count": 55,
   "metadata": {},
   "outputs": [
    {
     "data": {
      "text/plain": [
       "array([[ 1.17526564e+01],\n",
       "       [ 1.40327748e+01],\n",
       "       [ 1.58712830e+00],\n",
       "       [ 2.82219246e+00],\n",
       "       [ 1.62054273e-01],\n",
       "       [ 7.28742443e+00],\n",
       "       [ 1.27977107e+01],\n",
       "       [ 8.80750339e+00],\n",
       "       [ 1.88780265e+01],\n",
       "       [ 1.65979081e+01],\n",
       "       [ 2.03031006e+01],\n",
       "       [ 1.65979081e+01],\n",
       "       [ 1.39377699e+01],\n",
       "       [ 1.51728341e+01],\n",
       "       [ 1.72629426e+01],\n",
       "       [ 1.56478587e+01],\n",
       "       [ 1.26077008e+01],\n",
       "       [ 1.79279772e+01],\n",
       "       [ 1.53628439e+01],\n",
       "       [ 1.72629426e+01],\n",
       "       [ 2.16331697e+01],\n",
       "       [ 1.59328735e+01],\n",
       "       [ 2.01130907e+01],\n",
       "       [ 2.07781252e+01],\n",
       "       [ 1.97330710e+01],\n",
       "       [ 2.13481549e+01],\n",
       "       [ 1.87830216e+01],\n",
       "       [ 2.04931104e+01],\n",
       "       [ 1.70729328e+01],\n",
       "       [ 1.46028045e+01],\n",
       "       [ 2.24882141e+01],\n",
       "       [ 2.07781252e+01],\n",
       "       [ 2.20131894e+01],\n",
       "       [ 2.21081943e+01],\n",
       "       [ 2.17281746e+01],\n",
       "       [ 1.65979081e+01],\n",
       "       [ 1.55528538e+01],\n",
       "       [ 1.46028045e+01],\n",
       "       [ 1.10876218e+01],\n",
       "       [ 5.29232078e+00],\n",
       "       [ 1.39711843e+00],\n",
       "       [ 9.28252807e+00],\n",
       "       [ 1.05175922e+01],\n",
       "       [ 1.10876218e+01],\n",
       "       [ 1.44127946e+01],\n",
       "       [ 1.62178884e+01],\n",
       "       [ 1.55528538e+01],\n",
       "       [ 1.87830216e+01],\n",
       "       [ 2.08731302e+01],\n",
       "       [ 1.61228834e+01],\n",
       "       [ 1.58378686e+01],\n",
       "       [ 1.50778291e+01],\n",
       "       [ 1.08026070e+01],\n",
       "       [ 1.23226860e+01],\n",
       "       [ 1.65979081e+01],\n",
       "       [ 9.22093756e-01],\n",
       "       [ 1.10876218e+01],\n",
       "       [ 4.53228130e+00],\n",
       "       [ 1.24176909e+01],\n",
       "       [ 1.59328735e+01],\n",
       "       [ 1.67879180e+01],\n",
       "       [ 1.93530512e+01],\n",
       "       [ 1.34627452e+01],\n",
       "       [ 1.08026070e+01],\n",
       "       [ 3.20221221e+00],\n",
       "       [ 1.22276811e+01],\n",
       "       [ 1.61228834e+01],\n",
       "       [ 1.36527551e+01],\n",
       "       [ 1.80229821e+01],\n",
       "       [ 1.46978094e+01],\n",
       "       [ 1.15626465e+01],\n",
       "       [ 1.39377699e+01],\n",
       "       [ 1.28927156e+01],\n",
       "       [ 1.23226860e+01],\n",
       "       [ 1.16576515e+01],\n",
       "       [ 1.42227847e+01],\n",
       "       [ 1.55528538e+01],\n",
       "       [ 1.47928143e+01],\n",
       "       [ 1.44127946e+01],\n",
       "       [ 1.52678390e+01],\n",
       "       [ 7.95245897e+00],\n",
       "       [ 1.18476613e+01],\n",
       "       [ 1.09926169e+01],\n",
       "       [ 1.27977107e+01],\n",
       "       [ 1.18476613e+01],\n",
       "       [ 9.28252807e+00],\n",
       "       [ 1.31777304e+01],\n",
       "       [ 1.34627452e+01],\n",
       "       [ 1.21326761e+01],\n",
       "       [ 7.28742443e+00],\n",
       "       [ 1.30827255e+01],\n",
       "       [ 1.36527551e+01],\n",
       "       [ 1.27977107e+01],\n",
       "       [ 1.08026070e+01],\n",
       "       [ 1.49828242e+01],\n",
       "       [ 7.57243923e+00],\n",
       "       [ 1.42227847e+01],\n",
       "       [-2.21306911e+00],\n",
       "       [-7.05832082e+00],\n",
       "       [ 3.01220233e+00],\n",
       "       [ 8.42748365e+00],\n",
       "       [ 9.37753300e+00],\n",
       "       [ 1.68829229e+01],\n",
       "       [ 1.62178884e+01],\n",
       "       [ 1.54578489e+01],\n",
       "       [ 1.60278785e+01],\n",
       "       [ 1.60278785e+01],\n",
       "       [ 1.51728341e+01],\n",
       "       [ 1.57428637e+01],\n",
       "       [ 1.61228834e+01],\n",
       "       [ 1.39377699e+01],\n",
       "       [ 1.28927156e+01],\n",
       "       [ 1.66929130e+01],\n",
       "       [ 1.67879180e+01],\n",
       "       [ 1.69779278e+01],\n",
       "       [ 1.71679377e+01],\n",
       "       [ 1.44127946e+01],\n",
       "       [ 1.63128933e+01],\n",
       "       [ 1.51728341e+01],\n",
       "       [ 1.62178884e+01],\n",
       "       [ 1.36527551e+01],\n",
       "       [ 1.52678390e+01],\n",
       "       [ 1.50778291e+01],\n",
       "       [ 1.81179871e+01],\n",
       "       [ 1.66929130e+01],\n",
       "       [ 1.42227847e+01],\n",
       "       [ 1.96380660e+01],\n",
       "       [ 1.91630413e+01],\n",
       "       [ 1.74529525e+01],\n",
       "       [ 2.09681351e+01],\n",
       "       [ 1.63128933e+01],\n",
       "       [ 1.59328735e+01],\n",
       "       [ 1.27027057e+01],\n",
       "       [ 1.70729328e+01],\n",
       "       [ 1.97330710e+01],\n",
       "       [ 1.73579476e+01],\n",
       "       [ 1.80229821e+01],\n",
       "       [ 1.83079969e+01],\n",
       "       [ 2.19181845e+01],\n",
       "       [ 1.76429624e+01],\n",
       "       [ 2.12531499e+01],\n",
       "       [ 2.08731302e+01],\n",
       "       [ 2.18231795e+01],\n",
       "       [ 1.97330710e+01],\n",
       "       [ 2.33432585e+01],\n",
       "       [ 2.14431598e+01],\n",
       "       [ 1.97330710e+01],\n",
       "       [ 2.06831203e+01],\n",
       "       [ 1.76429624e+01],\n",
       "       [ 1.99230808e+01],\n",
       "       [ 1.41277798e+01],\n",
       "       [ 1.59328735e+01],\n",
       "       [ 2.00180858e+01],\n",
       "       [ 1.61228834e+01],\n",
       "       [ 1.84030019e+01],\n",
       "       [ 1.97330710e+01],\n",
       "       [ 2.21081943e+01],\n",
       "       [-4.68319743e+00],\n",
       "       [ 1.14676416e+01],\n",
       "       [ 1.24176909e+01],\n",
       "       [ 8.90250833e+00],\n",
       "       [-1.29486268e+01],\n",
       "       [-1.29486268e+01],\n",
       "       [-1.29486268e+01],\n",
       "       [ 1.29877205e+01],\n",
       "       [ 1.08026070e+01],\n",
       "       [-1.29486268e+01],\n",
       "       [ 1.19426663e+01],\n",
       "       [ 1.19426663e+01],\n",
       "       [ 1.33677403e+01],\n",
       "       [ 1.80229821e+01],\n",
       "       [ 1.64078982e+01],\n",
       "       [ 1.26077008e+01],\n",
       "       [ 1.21326761e+01],\n",
       "       [ 1.30827255e+01],\n",
       "       [ 6.62238988e+00],\n",
       "       [ 1.25126959e+01],\n",
       "       [ 1.11826268e+01],\n",
       "       [ 6.14736520e+00],\n",
       "       [-7.87995080e-01],\n",
       "       [-3.25812340e+00],\n",
       "       [ 1.62054273e-01],\n",
       "       [-1.45302963e+00],\n",
       "       [ 3.67723688e+00],\n",
       "       [ 9.47253794e+00],\n",
       "       [ 6.43238001e+00],\n",
       "       [-1.29486268e+01],\n",
       "       [ 4.15226156e+00],\n",
       "       [ 6.24237014e+00],\n",
       "       [ 1.39711843e+00],\n",
       "       [-5.97985210e-01],\n",
       "       [ 5.57733559e+00],\n",
       "       [-2.79555974e-02],\n",
       "       [ 5.00730598e+00],\n",
       "       [ 6.90740469e+00],\n",
       "       [-1.29486268e+01],\n",
       "       [ 2.91719740e+00],\n",
       "       [ 5.76734546e+00],\n",
       "       [ 1.68213324e+00],\n",
       "       [ 1.39711843e+00],\n",
       "       [ 3.29721714e+00],\n",
       "       [ 1.16576515e+01],\n",
       "       [-5.63324678e+00],\n",
       "       [-1.15235528e+01],\n",
       "       [-1.29486268e+01],\n",
       "       [ 1.30827255e+01],\n",
       "       [ 1.13726366e+01],\n",
       "       [ 1.31777304e+01],\n",
       "       [ 1.13726366e+01],\n",
       "       [ 1.55528538e+01],\n",
       "       [ 1.39377699e+01],\n",
       "       [ 1.62178884e+01],\n",
       "       [ 1.32727354e+01],\n",
       "       [ 7.85745404e+00],\n",
       "       [ 1.20376712e+01],\n",
       "       [ 1.08026070e+01],\n",
       "       [ 1.24176909e+01],\n",
       "       [ 7.28742443e+00],\n",
       "       [ 1.41277798e+01],\n",
       "       [ 1.27027057e+01],\n",
       "       [ 9.18752313e+00],\n",
       "       [ 1.39377699e+01],\n",
       "       [ 8.42748365e+00],\n",
       "       [ 5.95735533e+00],\n",
       "       [-8.00837017e+00],\n",
       "       [-1.29486268e+01],\n",
       "       [-1.16801482e+00],\n",
       "       [ 4.53228130e+00],\n",
       "       [-9.81346394e+00],\n",
       "       [ 4.62728624e+00],\n",
       "       [ 1.14676416e+01],\n",
       "       [ 4.43727637e+00],\n",
       "       [-5.06321717e+00],\n",
       "       [-1.13335429e+01],\n",
       "       [ 7.00240962e+00],\n",
       "       [ 1.17526564e+01],\n",
       "       [ 1.07076021e+01],\n",
       "       [ 4.62728624e+00],\n",
       "       [ 1.20376712e+01],\n",
       "       [ 1.24176909e+01],\n",
       "       [ 1.36527551e+01],\n",
       "       [ 1.54578489e+01],\n",
       "       [ 1.34627452e+01],\n",
       "       [ 1.20376712e+01],\n",
       "       [ 1.78329723e+01],\n",
       "       [ 1.69779278e+01],\n",
       "       [ 1.14676416e+01],\n",
       "       [ 1.50778291e+01],\n",
       "       [ 1.12776317e+01],\n",
       "       [ 9.66254781e+00],\n",
       "       [ 1.13726366e+01],\n",
       "       [ 1.09926169e+01],\n",
       "       [ 6.43238001e+00],\n",
       "       [-6.10827146e+00],\n",
       "       [ 1.37477600e+01],\n",
       "       [ 1.46978094e+01],\n",
       "       [-7.24833069e+00],\n",
       "       [-1.29486268e+01],\n",
       "       [ 3.52064144e-01],\n",
       "       [ 5.95735533e+00],\n",
       "       [ 2.44217272e+00],\n",
       "       [-6.39328627e+00],\n",
       "       [-1.18085676e+01],\n",
       "       [ 5.10231091e+00],\n",
       "       [-1.22960533e-01],\n",
       "       [ 1.28927156e+01],\n",
       "       [ 5.38732572e+00],\n",
       "       [-1.29486268e+01],\n",
       "       [-6.77330601e+00],\n",
       "       [ 1.48878193e+01],\n",
       "       [ 1.45077995e+01],\n",
       "       [ 1.06125972e+01],\n",
       "       [ 1.13726366e+01],\n",
       "       [ 1.11210363e+00],\n",
       "       [ 3.77224182e+00],\n",
       "       [ 4.15226156e+00],\n",
       "       [ 3.01220233e+00],\n",
       "       [ 3.10720727e+00],\n",
       "       [ 6.90740469e+00],\n",
       "       [ 1.20710856e+00],\n",
       "       [-8.57839978e+00],\n",
       "       [ 9.22093756e-01],\n",
       "       [-9.14842939e+00],\n",
       "       [-1.29486268e+01],\n",
       "       [ 3.96225169e+00],\n",
       "       [ 1.36527551e+01],\n",
       "       [ 1.54578489e+01],\n",
       "       [ 1.25126959e+01],\n",
       "       [ 1.33677403e+01],\n",
       "       [ 1.09926169e+01],\n",
       "       [ 7.47743430e+00],\n",
       "       [-8.83000016e-01],\n",
       "       [ 8.04746391e+00],\n",
       "       [ 1.18476613e+01],\n",
       "       [ 1.39377699e+01],\n",
       "       [ 7.38242936e+00],\n",
       "       [ 8.80750339e+00],\n",
       "       [ 1.52678390e+01],\n",
       "       [ 1.31777304e+01],\n",
       "       [ 7.00240962e+00],\n",
       "       [ 1.09926169e+01],\n",
       "       [ 1.36527551e+01],\n",
       "       [ 9.47253794e+00],\n",
       "       [ 3.10720727e+00],\n",
       "       [ 2.57059209e-01],\n",
       "       [ 7.57243923e+00],\n",
       "       [ 2.82219246e+00],\n",
       "       [ 7.76244910e+00],\n",
       "       [ 1.28927156e+01],\n",
       "       [ 1.52678390e+01],\n",
       "       [ 1.92580463e+01],\n",
       "       [ 1.35577502e+01],\n",
       "       [ 1.61228834e+01],\n",
       "       [ 1.40327748e+01],\n",
       "       [ 1.19426663e+01],\n",
       "       [ 1.91630413e+01],\n",
       "       [ 1.76429624e+01],\n",
       "       [ 1.57428637e+01],\n",
       "       [ 1.26077008e+01],\n",
       "       [ 1.46028045e+01],\n",
       "       [ 1.19426663e+01],\n",
       "       [ 1.26077008e+01],\n",
       "       [ 1.51728341e+01],\n",
       "       [ 1.69779278e+01],\n",
       "       [ 1.08026070e+01],\n",
       "       [ 1.11826268e+01],\n",
       "       [ 1.27027057e+01],\n",
       "       [ 1.34627452e+01],\n",
       "       [ 1.62178884e+01],\n",
       "       [ 1.30827255e+01],\n",
       "       [ 1.57428637e+01],\n",
       "       [ 1.83079969e+01],\n",
       "       [ 1.61228834e+01],\n",
       "       [ 1.34627452e+01],\n",
       "       [ 1.48878193e+01],\n",
       "       [ 1.45077995e+01],\n",
       "       [ 1.60278785e+01],\n",
       "       [ 1.69779278e+01],\n",
       "       [ 1.49828242e+01],\n",
       "       [ 1.65029032e+01],\n",
       "       [ 1.67879180e+01],\n",
       "       [ 3.48722701e+00],\n",
       "       [ 1.88780265e+01],\n",
       "       [ 1.18476613e+01],\n",
       "       [ 4.91230104e+00],\n",
       "       [ 1.79279772e+01],\n",
       "       [ 1.82129920e+01],\n",
       "       [ 1.26077008e+01],\n",
       "       [ 1.12776317e+01],\n",
       "       [ 9.28252807e+00],\n",
       "       [ 1.27977107e+01],\n",
       "       [ 1.16576515e+01],\n",
       "       [ 1.68829229e+01],\n",
       "       [ 5.95735533e+00],\n",
       "       [ 1.72629426e+01],\n",
       "       [ 1.49828242e+01],\n",
       "       [ 1.76429624e+01],\n",
       "       [ 1.39377699e+01],\n",
       "       [ 1.29877205e+01],\n",
       "       [ 1.30827255e+01],\n",
       "       [ 1.08026070e+01],\n",
       "       [ 1.56478587e+01],\n",
       "       [ 1.47928143e+01],\n",
       "       [ 1.85930117e+01],\n",
       "       [ 1.37477600e+01],\n",
       "       [ 8.42748365e+00],\n",
       "       [ 1.37477600e+01],\n",
       "       [ 1.26077008e+01],\n",
       "       [-1.29486268e+01],\n",
       "       [-1.29486268e+01],\n",
       "       [-1.29486268e+01],\n",
       "       [-1.29486268e+01],\n",
       "       [-1.29486268e+01],\n",
       "       [ 2.14431598e+01],\n",
       "       [ 2.14431598e+01],\n",
       "       [ 2.03031006e+01],\n",
       "       [ 2.13481549e+01],\n",
       "       [ 2.19181845e+01],\n",
       "       [ 2.21081943e+01],\n",
       "       [ 2.48633375e+01],\n",
       "       [ 2.46733276e+01],\n",
       "       [ 2.41983029e+01],\n",
       "       [ 2.38182832e+01],\n",
       "       [ 2.28682338e+01],\n",
       "       [ 2.61934066e+01],\n",
       "       [ 2.77134855e+01],\n",
       "       [ 2.45783227e+01],\n",
       "       [ 2.75234757e+01],\n",
       "       [ 2.48633375e+01],\n",
       "       [ 2.36282733e+01],\n",
       "       [ 2.02080956e+01],\n",
       "       [ 1.25126959e+01],\n",
       "       [ 2.53383621e+01],\n",
       "       [ 2.14431598e+01],\n",
       "       [ 2.24882141e+01],\n",
       "       [ 2.21081943e+01],\n",
       "       [ 2.26782240e+01],\n",
       "       [ 2.64784214e+01],\n",
       "       [ 2.98035941e+01],\n",
       "       [ 2.85685300e+01],\n",
       "       [ 2.92335645e+01],\n",
       "       [ 2.77134855e+01],\n",
       "       [ 2.30582437e+01],\n",
       "       [ 2.66684312e+01],\n",
       "       [ 2.64784214e+01],\n",
       "       [ 2.98035941e+01],\n",
       "       [ 2.32482536e+01],\n",
       "       [ 8.04746391e+00],\n",
       "       [ 1.82129920e+01],\n",
       "       [ 8.42748365e+00],\n",
       "       [ 2.03031006e+01],\n",
       "       [ 1.82129920e+01],\n",
       "       [ 1.75479574e+01],\n",
       "       [ 1.90680364e+01],\n",
       "       [ 2.79034954e+01],\n",
       "       [ 2.77134855e+01],\n",
       "       [ 2.74284707e+01],\n",
       "       [ 2.46733276e+01],\n",
       "       [ 2.61934066e+01],\n",
       "       [ 2.65734263e+01],\n",
       "       [ 1.86880167e+01],\n",
       "       [ 2.10631401e+01],\n",
       "       [ 1.47928143e+01],\n",
       "       [ 2.18231795e+01],\n",
       "       [ 2.34382634e+01],\n",
       "       [ 2.66684312e+01],\n",
       "       [ 2.48633375e+01],\n",
       "       [ 2.41983029e+01],\n",
       "       [ 2.41032980e+01],\n",
       "       [ 2.55283720e+01],\n",
       "       [ 2.07781252e+01],\n",
       "       [ 2.11581450e+01],\n",
       "       [ 1.92580463e+01],\n",
       "       [ 2.09681351e+01],\n",
       "       [ 2.34382634e+01],\n",
       "       [ 2.18231795e+01],\n",
       "       [ 2.54333671e+01],\n",
       "       [ 2.62884115e+01],\n",
       "       [ 2.65734263e+01],\n",
       "       [ 2.23932092e+01],\n",
       "       [ 2.45783227e+01],\n",
       "       [ 1.83079969e+01],\n",
       "       [ 1.70729328e+01],\n",
       "       [ 1.99230808e+01],\n",
       "       [ 2.42933079e+01],\n",
       "       [ 2.33432585e+01],\n",
       "       [ 2.03981055e+01],\n",
       "       [ 2.25832190e+01],\n",
       "       [ 2.11581450e+01],\n",
       "       [ 2.22031993e+01],\n",
       "       [ 2.18231795e+01],\n",
       "       [ 2.01130907e+01],\n",
       "       [ 1.92580463e+01],\n",
       "       [ 1.76429624e+01],\n",
       "       [ 2.03981055e+01],\n",
       "       [ 2.11581450e+01],\n",
       "       [ 2.24882141e+01],\n",
       "       [ 2.17281746e+01],\n",
       "       [ 2.03981055e+01],\n",
       "       [ 1.55528538e+01],\n",
       "       [ 1.89730315e+01],\n",
       "       [ 1.77379673e+01],\n",
       "       [ 1.60278785e+01],\n",
       "       [ 1.53628439e+01],\n",
       "       [ 1.42227847e+01],\n",
       "       [ 1.56478587e+01],\n",
       "       [ 1.65029032e+01],\n",
       "       [ 1.64078982e+01],\n",
       "       [ 1.64078982e+01],\n",
       "       [ 1.54578489e+01],\n",
       "       [ 1.56478587e+01],\n",
       "       [ 1.59328735e+01],\n",
       "       [ 1.25126959e+01],\n",
       "       [ 6.24237014e+00],\n",
       "       [ 2.14431598e+01],\n",
       "       [ 2.19181845e+01],\n",
       "       [ 1.86880167e+01],\n",
       "       [ 2.31532486e+01],\n",
       "       [ 2.06831203e+01],\n",
       "       [ 1.42227847e+01],\n",
       "       [ 1.27027057e+01],\n",
       "       [ 1.20376712e+01],\n",
       "       [ 1.08026070e+01],\n",
       "       [ 1.38427650e+01],\n",
       "       [ 1.49828242e+01],\n",
       "       [ 1.44127946e+01],\n",
       "       [ 1.64078982e+01],\n",
       "       [ 1.49828242e+01],\n",
       "       [ 2.01130907e+01],\n",
       "       [ 2.79034954e+01],\n",
       "       [ 2.68584411e+01],\n",
       "       [ 2.16331697e+01],\n",
       "       [ 1.54578489e+01],\n",
       "       [ 1.38427650e+01],\n",
       "       [ 1.12776317e+01],\n",
       "       [ 1.26077008e+01],\n",
       "       [ 1.58378686e+01],\n",
       "       [ 1.71679377e+01],\n",
       "       [ 1.44127946e+01],\n",
       "       [ 1.79279772e+01],\n",
       "       [ 1.85930117e+01],\n",
       "       [ 1.32727354e+01],\n",
       "       [ 1.49828242e+01],\n",
       "       [ 1.18476613e+01],\n",
       "       [ 1.36527551e+01],\n",
       "       [ 2.32482536e+01]])"
      ]
     },
     "execution_count": 55,
     "metadata": {},
     "output_type": "execute_result"
    }
   ],
   "source": [
    "Y_pred"
   ]
  },
  {
   "cell_type": "code",
   "execution_count": 54,
   "metadata": {},
   "outputs": [
    {
     "name": "stdout",
     "output_type": "stream",
     "text": [
      "MSSE = 409.1231791655157\n"
     ]
    }
   ],
   "source": [
    "Y_pred=lr.predict(Y)                                            #Calculating MSSE\n",
    "Msse = np.square(np.subtract(Y_pred,Y)).mean()\n",
    "print(\"MSSE =\", Msse)"
   ]
  },
  {
   "cell_type": "code",
   "execution_count": null,
   "metadata": {},
   "outputs": [],
   "source": []
  }
 ],
 "metadata": {
  "colab": {
   "collapsed_sections": [],
   "name": "Lecture 02 Linear Regression and HW1.ipynb",
   "provenance": [
    {
     "file_id": "1DziSbVqaWErcHDGNfhjupryp5jZFd-t2",
     "timestamp": 1535684058223
    }
   ]
  },
  "kernelspec": {
   "display_name": "Python 3 (ipykernel)",
   "language": "python",
   "name": "python3"
  },
  "language_info": {
   "codemirror_mode": {
    "name": "ipython",
    "version": 3
   },
   "file_extension": ".py",
   "mimetype": "text/x-python",
   "name": "python",
   "nbconvert_exporter": "python",
   "pygments_lexer": "ipython3",
   "version": "3.9.7"
  }
 },
 "nbformat": 4,
 "nbformat_minor": 1
}

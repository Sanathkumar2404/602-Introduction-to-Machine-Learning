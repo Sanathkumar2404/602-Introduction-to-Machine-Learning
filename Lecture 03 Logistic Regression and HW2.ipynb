{
 "cells": [
  {
   "cell_type": "markdown",
   "metadata": {
    "id": "q7hKxFim54Oy"
   },
   "source": [
    "Most of the contents of this notebook were prepared by Dr. Edward Raff (Spring 2019)"
   ]
  },
  {
   "cell_type": "markdown",
   "metadata": {
    "id": "IBaEtP1ZHoYB"
   },
   "source": [
    "## LOGISTIC REGRESSION"
   ]
  },
  {
   "cell_type": "code",
   "execution_count": 1,
   "metadata": {
    "id": "gNktF5vjhozS"
   },
   "outputs": [],
   "source": [
    "import pandas as pd\n",
    "from sklearn import datasets\n",
    "from matplotlib import pyplot\n",
    "import numpy as np\n",
    "from sklearn.linear_model import LogisticRegression\n",
    "from sklearn.utils import shuffle"
   ]
  },
  {
   "cell_type": "markdown",
   "metadata": {
    "id": "lt3FTGp0dJ31"
   },
   "source": [
    "Remember that the probability of belonging to the class (*y*=1) is provided by the sigmoid function:\n",
    "\n",
    "$$\n",
    "g(z)=\\frac{1}{1+e^{-z}}, \\space where \\space z=w^Tx\n",
    "$$\n",
    "\n",
    "$g(z) \\in{[0,1]}$\n",
    "\n",
    "Let's look at the sigmoid function closely:"
   ]
  },
  {
   "cell_type": "code",
   "execution_count": 2,
   "metadata": {
    "colab": {
     "base_uri": "https://localhost:8080/",
     "height": 299
    },
    "executionInfo": {
     "elapsed": 779,
     "status": "ok",
     "timestamp": 1655224154287,
     "user": {
      "displayName": "Yalin Bastanlar",
      "userId": "07407514109940480382"
     },
     "user_tz": 240
    },
    "id": "4PYXsowRdJ32",
    "outputId": "9ef82ccd-3880-4dac-ee90-91f7935d5eeb"
   },
   "outputs": [
    {
     "data": {
      "image/png": "[encoded data removed]",
      "text/plain": [
       "<Figure size 432x288 with 1 Axes>"
      ]
     },
     "metadata": {
      "needs_background": "light"
     },
     "output_type": "display_data"
    }
   ],
   "source": [
    "def sig(x):\n",
    "    return 1/(1+np.exp(-x))\n",
    "\n",
    "x = np.array(range(-10,10))\n",
    "pyplot.plot(x, sig(x))\n",
    "#pyplot.plot([0,0],[0,1], color='red', linestyle='dashed' )\n",
    "pyplot.xlabel('$z = w^Tx$')\n",
    "pyplot.ylabel('$g(z)$')\n",
    "pyplot.title('Sigmoid is bound between 0 and 1', loc='center')\n",
    "pyplot.show()"
   ]
  },
  {
   "cell_type": "markdown",
   "metadata": {
    "id": "ju_pd9B-gfet"
   },
   "source": [
    "When $z=0$, $g(z)=0.5$ which is intuitively the boundary between two classes.\n",
    "\n",
    "For our predictions, we can go with the following function:\n",
    "$$\n",
    "\\hat{y}=\n",
    "    \\begin{cases}\n",
    "      1 & \\text{if $\\theta(z)\\geq 0.5$}\\\\\n",
    "      0 & \\text{otherwise}\n",
    "    \\end{cases} \n",
    "$$"
   ]
  },
  {
   "cell_type": "markdown",
   "metadata": {
    "id": "AFLCYUyThstp"
   },
   "source": [
    "### How does the cross-entropy loss relate to the sigmoid function?"
   ]
  },
  {
   "cell_type": "code",
   "execution_count": 3,
   "metadata": {
    "colab": {
     "base_uri": "https://localhost:8080/",
     "height": 283
    },
    "executionInfo": {
     "elapsed": 815,
     "status": "ok",
     "timestamp": 1655224158384,
     "user": {
      "displayName": "Yalin Bastanlar",
      "userId": "07407514109940480382"
     },
     "user_tz": 240
    },
    "id": "XSteBc6mkMs3",
    "outputId": "3ee5911a-9263-4904-c34c-35f7c6c98e24"
   },
   "outputs": [
    {
     "data": {
      "image/png": "[encoded data removed]",
      "text/plain": [
       "<Figure size 432x288 with 1 Axes>"
      ]
     },
     "metadata": {
      "needs_background": "light"
     },
     "output_type": "display_data"
    }
   ],
   "source": [
    "def sig(x):\n",
    "    return 1/(1+np.exp(-x))\n",
    "\n",
    "def cost_1(z):\n",
    "    return -np.log(sig(z))\n",
    "\n",
    "def cost_0(z):\n",
    "    return -np.log(1-sig(z))\n",
    "\n",
    "z = np.arange(-10, 10, 0.1)\n",
    "\n",
    "phi_z = sig(z)\n",
    "c1 = cost_1(z)\n",
    "c0 = cost_0(z)\n",
    "\n",
    "pyplot.plot(phi_z, c1, phi_z, c0, '--')\n",
    "pyplot.legend(['J(w) if y=1', 'J(w) if y=0'])\n",
    "pyplot.xlabel('Sigmoid Activation Function $g(z)$')\n",
    "pyplot.ylabel('Logistic Cost $J(w)$')\n",
    "pyplot.show()"
   ]
  },
  {
   "cell_type": "markdown",
   "metadata": {
    "id": "DyA-vaoLkupm"
   },
   "source": [
    "Cost approaches 0 if we correctly predict the class. If we are wrong, it goes to infinity."
   ]
  },
  {
   "cell_type": "markdown",
   "metadata": {
    "id": "FLaEqT1pfwga"
   },
   "source": [
    "## First example: Iris dataset"
   ]
  },
  {
   "cell_type": "code",
   "execution_count": 4,
   "metadata": {
    "id": "CIBY2fOPhzCc"
   },
   "outputs": [],
   "source": [
    "data = datasets.load_iris()"
   ]
  },
  {
   "cell_type": "code",
   "execution_count": 5,
   "metadata": {
    "colab": {
     "base_uri": "https://localhost:8080/"
    },
    "executionInfo": {
     "elapsed": 388,
     "status": "ok",
     "timestamp": 1655146920248,
     "user": {
      "displayName": "Yalin Bastanlar",
      "userId": "07407514109940480382"
     },
     "user_tz": 240
    },
    "id": "N3U9kgaEiH8H",
    "outputId": "24835a7a-bdcf-438e-bc60-50bf3aa12b7a",
    "scrolled": false
   },
   "outputs": [
    {
     "name": "stdout",
     "output_type": "stream",
     "text": [
      ".. _iris_dataset:\n",
      "\n",
      "Iris plants dataset\n",
      "--------------------\n",
      "\n",
      "**Data Set Characteristics:**\n",
      "\n",
      "    :Number of Instances: 150 (50 in each of three classes)\n",
      "    :Number of Attributes: 4 numeric, predictive attributes and the class\n",
      "    :Attribute Information:\n",
      "        - sepal length in cm\n",
      "        - sepal width in cm\n",
      "        - petal length in cm\n",
      "        - petal width in cm\n",
      "        - class:\n",
      "                - Iris-Setosa\n",
      "                - Iris-Versicolour\n",
      "                - Iris-Virginica\n",
      "...\n"
     ]
    }
   ],
   "source": [
    "print(data['DESCR'][:482] + \"\\n...\")"
   ]
  },
  {
   "cell_type": "code",
   "execution_count": 6,
   "metadata": {
    "colab": {
     "base_uri": "https://localhost:8080/"
    },
    "executionInfo": {
     "elapsed": 114,
     "status": "ok",
     "timestamp": 1655224169031,
     "user": {
      "displayName": "Yalin Bastanlar",
      "userId": "07407514109940480382"
     },
     "user_tz": 240
    },
    "id": "i6ISgoxxnA7v",
    "outputId": "58fc336f-431d-4c04-80f2-862b245a7f1b"
   },
   "outputs": [
    {
     "name": "stdout",
     "output_type": "stream",
     "text": [
      "(150, 4)\n"
     ]
    }
   ],
   "source": [
    "print(data.data.shape)\n",
    "#print(data.data)"
   ]
  },
  {
   "cell_type": "code",
   "execution_count": 7,
   "metadata": {
    "id": "xYIH9jLziNkp"
   },
   "outputs": [],
   "source": [
    "iris_dfstart = pd.DataFrame(data=np.c_[data['data'], data['target']],columns= list(data['feature_names']) + ['target'])"
   ]
  },
  {
   "cell_type": "code",
   "execution_count": 8,
   "metadata": {
    "colab": {
     "base_uri": "https://localhost:8080/",
     "height": 206
    },
    "executionInfo": {
     "elapsed": 173,
     "status": "ok",
     "timestamp": 1655146928164,
     "user": {
      "displayName": "Yalin Bastanlar",
      "userId": "07407514109940480382"
     },
     "user_tz": 240
    },
    "id": "s4__x4mrjEFi",
    "outputId": "f41dc928-dca3-461d-b222-7a5306a4e070"
   },
   "outputs": [
    {
     "data": {
      "text/html": [
       "<div>\n",
       "<style scoped>\n",
       "    .dataframe tbody tr th:only-of-type {\n",
       "        vertical-align: middle;\n",
       "    }\n",
       "\n",
       "    .dataframe tbody tr th {\n",
       "        vertical-align: top;\n",
       "    }\n",
       "\n",
       "    .dataframe thead th {\n",
       "        text-align: right;\n",
       "    }\n",
       "</style>\n",
       "<table border=\"1\" class=\"dataframe\">\n",
       "  <thead>\n",
       "    <tr style=\"text-align: right;\">\n",
       "      <th></th>\n",
       "      <th>sepal length (cm)</th>\n",
       "      <th>sepal width (cm)</th>\n",
       "      <th>petal length (cm)</th>\n",
       "      <th>petal width (cm)</th>\n",
       "      <th>target</th>\n",
       "    </tr>\n",
       "  </thead>\n",
       "  <tbody>\n",
       "    <tr>\n",
       "      <th>0</th>\n",
       "      <td>5.1</td>\n",
       "      <td>3.5</td>\n",
       "      <td>1.4</td>\n",
       "      <td>0.2</td>\n",
       "      <td>0.0</td>\n",
       "    </tr>\n",
       "    <tr>\n",
       "      <th>1</th>\n",
       "      <td>4.9</td>\n",
       "      <td>3.0</td>\n",
       "      <td>1.4</td>\n",
       "      <td>0.2</td>\n",
       "      <td>0.0</td>\n",
       "    </tr>\n",
       "    <tr>\n",
       "      <th>2</th>\n",
       "      <td>4.7</td>\n",
       "      <td>3.2</td>\n",
       "      <td>1.3</td>\n",
       "      <td>0.2</td>\n",
       "      <td>0.0</td>\n",
       "    </tr>\n",
       "    <tr>\n",
       "      <th>3</th>\n",
       "      <td>4.6</td>\n",
       "      <td>3.1</td>\n",
       "      <td>1.5</td>\n",
       "      <td>0.2</td>\n",
       "      <td>0.0</td>\n",
       "    </tr>\n",
       "    <tr>\n",
       "      <th>4</th>\n",
       "      <td>5.0</td>\n",
       "      <td>3.6</td>\n",
       "      <td>1.4</td>\n",
       "      <td>0.2</td>\n",
       "      <td>0.0</td>\n",
       "    </tr>\n",
       "  </tbody>\n",
       "</table>\n",
       "</div>"
      ],
      "text/plain": [
       "   sepal length (cm)  sepal width (cm)  petal length (cm)  petal width (cm)  \\\n",
       "0                5.1               3.5                1.4               0.2   \n",
       "1                4.9               3.0                1.4               0.2   \n",
       "2                4.7               3.2                1.3               0.2   \n",
       "3                4.6               3.1                1.5               0.2   \n",
       "4                5.0               3.6                1.4               0.2   \n",
       "\n",
       "   target  \n",
       "0     0.0  \n",
       "1     0.0  \n",
       "2     0.0  \n",
       "3     0.0  \n",
       "4     0.0  "
      ]
     },
     "execution_count": 8,
     "metadata": {},
     "output_type": "execute_result"
    }
   ],
   "source": [
    "iris_dfstart.head()"
   ]
  },
  {
   "cell_type": "code",
   "execution_count": 9,
   "metadata": {
    "id": "QngUJdxJYByr"
   },
   "outputs": [],
   "source": [
    "iris_df=shuffle(pd.DataFrame(data=np.c_[data['data'], data['target']],columns= list(data['feature_names']) + ['target']),random_state = 1)"
   ]
  },
  {
   "cell_type": "code",
   "execution_count": 10,
   "metadata": {
    "colab": {
     "base_uri": "https://localhost:8080/",
     "height": 206
    },
    "executionInfo": {
     "elapsed": 3,
     "status": "ok",
     "timestamp": 1655146936475,
     "user": {
      "displayName": "Yalin Bastanlar",
      "userId": "07407514109940480382"
     },
     "user_tz": 240
    },
    "id": "eIVlh7VmYc5m",
    "outputId": "cddb223b-549f-4baa-dbdb-82f5da2d7662"
   },
   "outputs": [
    {
     "data": {
      "text/html": [
       "<div>\n",
       "<style scoped>\n",
       "    .dataframe tbody tr th:only-of-type {\n",
       "        vertical-align: middle;\n",
       "    }\n",
       "\n",
       "    .dataframe tbody tr th {\n",
       "        vertical-align: top;\n",
       "    }\n",
       "\n",
       "    .dataframe thead th {\n",
       "        text-align: right;\n",
       "    }\n",
       "</style>\n",
       "<table border=\"1\" class=\"dataframe\">\n",
       "  <thead>\n",
       "    <tr style=\"text-align: right;\">\n",
       "      <th></th>\n",
       "      <th>sepal length (cm)</th>\n",
       "      <th>sepal width (cm)</th>\n",
       "      <th>petal length (cm)</th>\n",
       "      <th>petal width (cm)</th>\n",
       "      <th>target</th>\n",
       "    </tr>\n",
       "  </thead>\n",
       "  <tbody>\n",
       "    <tr>\n",
       "      <th>14</th>\n",
       "      <td>5.8</td>\n",
       "      <td>4.0</td>\n",
       "      <td>1.2</td>\n",
       "      <td>0.2</td>\n",
       "      <td>0.0</td>\n",
       "    </tr>\n",
       "    <tr>\n",
       "      <th>98</th>\n",
       "      <td>5.1</td>\n",
       "      <td>2.5</td>\n",
       "      <td>3.0</td>\n",
       "      <td>1.1</td>\n",
       "      <td>1.0</td>\n",
       "    </tr>\n",
       "    <tr>\n",
       "      <th>75</th>\n",
       "      <td>6.6</td>\n",
       "      <td>3.0</td>\n",
       "      <td>4.4</td>\n",
       "      <td>1.4</td>\n",
       "      <td>1.0</td>\n",
       "    </tr>\n",
       "    <tr>\n",
       "      <th>16</th>\n",
       "      <td>5.4</td>\n",
       "      <td>3.9</td>\n",
       "      <td>1.3</td>\n",
       "      <td>0.4</td>\n",
       "      <td>0.0</td>\n",
       "    </tr>\n",
       "    <tr>\n",
       "      <th>131</th>\n",
       "      <td>7.9</td>\n",
       "      <td>3.8</td>\n",
       "      <td>6.4</td>\n",
       "      <td>2.0</td>\n",
       "      <td>2.0</td>\n",
       "    </tr>\n",
       "  </tbody>\n",
       "</table>\n",
       "</div>"
      ],
      "text/plain": [
       "     sepal length (cm)  sepal width (cm)  petal length (cm)  petal width (cm)  \\\n",
       "14                 5.8               4.0                1.2               0.2   \n",
       "98                 5.1               2.5                3.0               1.1   \n",
       "75                 6.6               3.0                4.4               1.4   \n",
       "16                 5.4               3.9                1.3               0.4   \n",
       "131                7.9               3.8                6.4               2.0   \n",
       "\n",
       "     target  \n",
       "14      0.0  \n",
       "98      1.0  \n",
       "75      1.0  \n",
       "16      0.0  \n",
       "131     2.0  "
      ]
     },
     "execution_count": 10,
     "metadata": {},
     "output_type": "execute_result"
    }
   ],
   "source": [
    "iris_df.head()"
   ]
  },
  {
   "cell_type": "code",
   "execution_count": 11,
   "metadata": {
    "colab": {
     "base_uri": "https://localhost:8080/",
     "height": 300
    },
    "executionInfo": {
     "elapsed": 183,
     "status": "ok",
     "timestamp": 1655146943422,
     "user": {
      "displayName": "Yalin Bastanlar",
      "userId": "07407514109940480382"
     },
     "user_tz": 240
    },
    "id": "KKioNFycgDb8",
    "outputId": "b0759e34-fc84-4657-9ddc-acaa795c6c07"
   },
   "outputs": [
    {
     "data": {
      "text/html": [
       "<div>\n",
       "<style scoped>\n",
       "    .dataframe tbody tr th:only-of-type {\n",
       "        vertical-align: middle;\n",
       "    }\n",
       "\n",
       "    .dataframe tbody tr th {\n",
       "        vertical-align: top;\n",
       "    }\n",
       "\n",
       "    .dataframe thead th {\n",
       "        text-align: right;\n",
       "    }\n",
       "</style>\n",
       "<table border=\"1\" class=\"dataframe\">\n",
       "  <thead>\n",
       "    <tr style=\"text-align: right;\">\n",
       "      <th></th>\n",
       "      <th>sepal length (cm)</th>\n",
       "      <th>sepal width (cm)</th>\n",
       "      <th>petal length (cm)</th>\n",
       "      <th>petal width (cm)</th>\n",
       "      <th>target</th>\n",
       "    </tr>\n",
       "  </thead>\n",
       "  <tbody>\n",
       "    <tr>\n",
       "      <th>count</th>\n",
       "      <td>50.00000</td>\n",
       "      <td>50.000000</td>\n",
       "      <td>50.000000</td>\n",
       "      <td>50.000000</td>\n",
       "      <td>50.0</td>\n",
       "    </tr>\n",
       "    <tr>\n",
       "      <th>mean</th>\n",
       "      <td>5.00600</td>\n",
       "      <td>3.428000</td>\n",
       "      <td>1.462000</td>\n",
       "      <td>0.246000</td>\n",
       "      <td>0.0</td>\n",
       "    </tr>\n",
       "    <tr>\n",
       "      <th>std</th>\n",
       "      <td>0.35249</td>\n",
       "      <td>0.379064</td>\n",
       "      <td>0.173664</td>\n",
       "      <td>0.105386</td>\n",
       "      <td>0.0</td>\n",
       "    </tr>\n",
       "    <tr>\n",
       "      <th>min</th>\n",
       "      <td>4.30000</td>\n",
       "      <td>2.300000</td>\n",
       "      <td>1.000000</td>\n",
       "      <td>0.100000</td>\n",
       "      <td>0.0</td>\n",
       "    </tr>\n",
       "    <tr>\n",
       "      <th>25%</th>\n",
       "      <td>4.80000</td>\n",
       "      <td>3.200000</td>\n",
       "      <td>1.400000</td>\n",
       "      <td>0.200000</td>\n",
       "      <td>0.0</td>\n",
       "    </tr>\n",
       "    <tr>\n",
       "      <th>50%</th>\n",
       "      <td>5.00000</td>\n",
       "      <td>3.400000</td>\n",
       "      <td>1.500000</td>\n",
       "      <td>0.200000</td>\n",
       "      <td>0.0</td>\n",
       "    </tr>\n",
       "    <tr>\n",
       "      <th>75%</th>\n",
       "      <td>5.20000</td>\n",
       "      <td>3.675000</td>\n",
       "      <td>1.575000</td>\n",
       "      <td>0.300000</td>\n",
       "      <td>0.0</td>\n",
       "    </tr>\n",
       "    <tr>\n",
       "      <th>max</th>\n",
       "      <td>5.80000</td>\n",
       "      <td>4.400000</td>\n",
       "      <td>1.900000</td>\n",
       "      <td>0.600000</td>\n",
       "      <td>0.0</td>\n",
       "    </tr>\n",
       "  </tbody>\n",
       "</table>\n",
       "</div>"
      ],
      "text/plain": [
       "       sepal length (cm)  sepal width (cm)  petal length (cm)  \\\n",
       "count           50.00000         50.000000          50.000000   \n",
       "mean             5.00600          3.428000           1.462000   \n",
       "std              0.35249          0.379064           0.173664   \n",
       "min              4.30000          2.300000           1.000000   \n",
       "25%              4.80000          3.200000           1.400000   \n",
       "50%              5.00000          3.400000           1.500000   \n",
       "75%              5.20000          3.675000           1.575000   \n",
       "max              5.80000          4.400000           1.900000   \n",
       "\n",
       "       petal width (cm)  target  \n",
       "count         50.000000    50.0  \n",
       "mean           0.246000     0.0  \n",
       "std            0.105386     0.0  \n",
       "min            0.100000     0.0  \n",
       "25%            0.200000     0.0  \n",
       "50%            0.200000     0.0  \n",
       "75%            0.300000     0.0  \n",
       "max            0.600000     0.0  "
      ]
     },
     "execution_count": 11,
     "metadata": {},
     "output_type": "execute_result"
    }
   ],
   "source": [
    "iris_df[iris_df['target']==0].describe()"
   ]
  },
  {
   "cell_type": "code",
   "execution_count": 12,
   "metadata": {
    "colab": {
     "base_uri": "https://localhost:8080/",
     "height": 300
    },
    "executionInfo": {
     "elapsed": 160,
     "status": "ok",
     "timestamp": 1655146953469,
     "user": {
      "displayName": "Yalin Bastanlar",
      "userId": "07407514109940480382"
     },
     "user_tz": 240
    },
    "id": "ZTX1Ppv-WuK8",
    "outputId": "a2e62717-3059-4618-9f1e-ebd1579768ad"
   },
   "outputs": [
    {
     "data": {
      "text/html": [
       "<div>\n",
       "<style scoped>\n",
       "    .dataframe tbody tr th:only-of-type {\n",
       "        vertical-align: middle;\n",
       "    }\n",
       "\n",
       "    .dataframe tbody tr th {\n",
       "        vertical-align: top;\n",
       "    }\n",
       "\n",
       "    .dataframe thead th {\n",
       "        text-align: right;\n",
       "    }\n",
       "</style>\n",
       "<table border=\"1\" class=\"dataframe\">\n",
       "  <thead>\n",
       "    <tr style=\"text-align: right;\">\n",
       "      <th></th>\n",
       "      <th>sepal length (cm)</th>\n",
       "      <th>sepal width (cm)</th>\n",
       "      <th>petal length (cm)</th>\n",
       "      <th>petal width (cm)</th>\n",
       "      <th>target</th>\n",
       "    </tr>\n",
       "  </thead>\n",
       "  <tbody>\n",
       "    <tr>\n",
       "      <th>count</th>\n",
       "      <td>50.000000</td>\n",
       "      <td>50.000000</td>\n",
       "      <td>50.000000</td>\n",
       "      <td>50.000000</td>\n",
       "      <td>50.0</td>\n",
       "    </tr>\n",
       "    <tr>\n",
       "      <th>mean</th>\n",
       "      <td>5.936000</td>\n",
       "      <td>2.770000</td>\n",
       "      <td>4.260000</td>\n",
       "      <td>1.326000</td>\n",
       "      <td>1.0</td>\n",
       "    </tr>\n",
       "    <tr>\n",
       "      <th>std</th>\n",
       "      <td>0.516171</td>\n",
       "      <td>0.313798</td>\n",
       "      <td>0.469911</td>\n",
       "      <td>0.197753</td>\n",
       "      <td>0.0</td>\n",
       "    </tr>\n",
       "    <tr>\n",
       "      <th>min</th>\n",
       "      <td>4.900000</td>\n",
       "      <td>2.000000</td>\n",
       "      <td>3.000000</td>\n",
       "      <td>1.000000</td>\n",
       "      <td>1.0</td>\n",
       "    </tr>\n",
       "    <tr>\n",
       "      <th>25%</th>\n",
       "      <td>5.600000</td>\n",
       "      <td>2.525000</td>\n",
       "      <td>4.000000</td>\n",
       "      <td>1.200000</td>\n",
       "      <td>1.0</td>\n",
       "    </tr>\n",
       "    <tr>\n",
       "      <th>50%</th>\n",
       "      <td>5.900000</td>\n",
       "      <td>2.800000</td>\n",
       "      <td>4.350000</td>\n",
       "      <td>1.300000</td>\n",
       "      <td>1.0</td>\n",
       "    </tr>\n",
       "    <tr>\n",
       "      <th>75%</th>\n",
       "      <td>6.300000</td>\n",
       "      <td>3.000000</td>\n",
       "      <td>4.600000</td>\n",
       "      <td>1.500000</td>\n",
       "      <td>1.0</td>\n",
       "    </tr>\n",
       "    <tr>\n",
       "      <th>max</th>\n",
       "      <td>7.000000</td>\n",
       "      <td>3.400000</td>\n",
       "      <td>5.100000</td>\n",
       "      <td>1.800000</td>\n",
       "      <td>1.0</td>\n",
       "    </tr>\n",
       "  </tbody>\n",
       "</table>\n",
       "</div>"
      ],
      "text/plain": [
       "       sepal length (cm)  sepal width (cm)  petal length (cm)  \\\n",
       "count          50.000000         50.000000          50.000000   \n",
       "mean            5.936000          2.770000           4.260000   \n",
       "std             0.516171          0.313798           0.469911   \n",
       "min             4.900000          2.000000           3.000000   \n",
       "25%             5.600000          2.525000           4.000000   \n",
       "50%             5.900000          2.800000           4.350000   \n",
       "75%             6.300000          3.000000           4.600000   \n",
       "max             7.000000          3.400000           5.100000   \n",
       "\n",
       "       petal width (cm)  target  \n",
       "count         50.000000    50.0  \n",
       "mean           1.326000     1.0  \n",
       "std            0.197753     0.0  \n",
       "min            1.000000     1.0  \n",
       "25%            1.200000     1.0  \n",
       "50%            1.300000     1.0  \n",
       "75%            1.500000     1.0  \n",
       "max            1.800000     1.0  "
      ]
     },
     "execution_count": 12,
     "metadata": {},
     "output_type": "execute_result"
    }
   ],
   "source": [
    "iris_df[iris_df['target']==1].describe()"
   ]
  },
  {
   "cell_type": "code",
   "execution_count": 13,
   "metadata": {
    "colab": {
     "base_uri": "https://localhost:8080/",
     "height": 300
    },
    "executionInfo": {
     "elapsed": 151,
     "status": "ok",
     "timestamp": 1655078555303,
     "user": {
      "displayName": "Yalin Bastanlar",
      "userId": "07407514109940480382"
     },
     "user_tz": 240
    },
    "id": "Og9DI_ExWxWK",
    "outputId": "a069a419-0751-460a-d7b6-889d022de04d"
   },
   "outputs": [
    {
     "data": {
      "text/html": [
       "<div>\n",
       "<style scoped>\n",
       "    .dataframe tbody tr th:only-of-type {\n",
       "        vertical-align: middle;\n",
       "    }\n",
       "\n",
       "    .dataframe tbody tr th {\n",
       "        vertical-align: top;\n",
       "    }\n",
       "\n",
       "    .dataframe thead th {\n",
       "        text-align: right;\n",
       "    }\n",
       "</style>\n",
       "<table border=\"1\" class=\"dataframe\">\n",
       "  <thead>\n",
       "    <tr style=\"text-align: right;\">\n",
       "      <th></th>\n",
       "      <th>sepal length (cm)</th>\n",
       "      <th>sepal width (cm)</th>\n",
       "      <th>petal length (cm)</th>\n",
       "      <th>petal width (cm)</th>\n",
       "      <th>target</th>\n",
       "    </tr>\n",
       "  </thead>\n",
       "  <tbody>\n",
       "    <tr>\n",
       "      <th>count</th>\n",
       "      <td>50.00000</td>\n",
       "      <td>50.000000</td>\n",
       "      <td>50.000000</td>\n",
       "      <td>50.00000</td>\n",
       "      <td>50.0</td>\n",
       "    </tr>\n",
       "    <tr>\n",
       "      <th>mean</th>\n",
       "      <td>6.58800</td>\n",
       "      <td>2.974000</td>\n",
       "      <td>5.552000</td>\n",
       "      <td>2.02600</td>\n",
       "      <td>2.0</td>\n",
       "    </tr>\n",
       "    <tr>\n",
       "      <th>std</th>\n",
       "      <td>0.63588</td>\n",
       "      <td>0.322497</td>\n",
       "      <td>0.551895</td>\n",
       "      <td>0.27465</td>\n",
       "      <td>0.0</td>\n",
       "    </tr>\n",
       "    <tr>\n",
       "      <th>min</th>\n",
       "      <td>4.90000</td>\n",
       "      <td>2.200000</td>\n",
       "      <td>4.500000</td>\n",
       "      <td>1.40000</td>\n",
       "      <td>2.0</td>\n",
       "    </tr>\n",
       "    <tr>\n",
       "      <th>25%</th>\n",
       "      <td>6.22500</td>\n",
       "      <td>2.800000</td>\n",
       "      <td>5.100000</td>\n",
       "      <td>1.80000</td>\n",
       "      <td>2.0</td>\n",
       "    </tr>\n",
       "    <tr>\n",
       "      <th>50%</th>\n",
       "      <td>6.50000</td>\n",
       "      <td>3.000000</td>\n",
       "      <td>5.550000</td>\n",
       "      <td>2.00000</td>\n",
       "      <td>2.0</td>\n",
       "    </tr>\n",
       "    <tr>\n",
       "      <th>75%</th>\n",
       "      <td>6.90000</td>\n",
       "      <td>3.175000</td>\n",
       "      <td>5.875000</td>\n",
       "      <td>2.30000</td>\n",
       "      <td>2.0</td>\n",
       "    </tr>\n",
       "    <tr>\n",
       "      <th>max</th>\n",
       "      <td>7.90000</td>\n",
       "      <td>3.800000</td>\n",
       "      <td>6.900000</td>\n",
       "      <td>2.50000</td>\n",
       "      <td>2.0</td>\n",
       "    </tr>\n",
       "  </tbody>\n",
       "</table>\n",
       "</div>"
      ],
      "text/plain": [
       "       sepal length (cm)  sepal width (cm)  petal length (cm)  \\\n",
       "count           50.00000         50.000000          50.000000   \n",
       "mean             6.58800          2.974000           5.552000   \n",
       "std              0.63588          0.322497           0.551895   \n",
       "min              4.90000          2.200000           4.500000   \n",
       "25%              6.22500          2.800000           5.100000   \n",
       "50%              6.50000          3.000000           5.550000   \n",
       "75%              6.90000          3.175000           5.875000   \n",
       "max              7.90000          3.800000           6.900000   \n",
       "\n",
       "       petal width (cm)  target  \n",
       "count          50.00000    50.0  \n",
       "mean            2.02600     2.0  \n",
       "std             0.27465     0.0  \n",
       "min             1.40000     2.0  \n",
       "25%             1.80000     2.0  \n",
       "50%             2.00000     2.0  \n",
       "75%             2.30000     2.0  \n",
       "max             2.50000     2.0  "
      ]
     },
     "execution_count": 13,
     "metadata": {},
     "output_type": "execute_result"
    }
   ],
   "source": [
    "iris_df[iris_df['target']==2].describe()"
   ]
  },
  {
   "cell_type": "code",
   "execution_count": 14,
   "metadata": {
    "colab": {
     "base_uri": "https://localhost:8080/",
     "height": 779
    },
    "executionInfo": {
     "elapsed": 932,
     "status": "ok",
     "timestamp": 1655223621952,
     "user": {
      "displayName": "Yalin Bastanlar",
      "userId": "07407514109940480382"
     },
     "user_tz": 240
    },
    "id": "WXB0PZc1gG71",
    "outputId": "b2bb5244-e89e-4bab-d919-171d385f8405"
   },
   "outputs": [
    {
     "data": {
      "text/plain": [
       "<AxesSubplot:>"
      ]
     },
     "execution_count": 14,
     "metadata": {},
     "output_type": "execute_result"
    },
    {
     "data": {
      "image/png": "[encoded data removed]",
      "text/plain": [
       "<Figure size 432x288 with 1 Axes>"
      ]
     },
     "metadata": {
      "needs_background": "light"
     },
     "output_type": "display_data"
    },
    {
     "data": {
      "image/png": "[encoded data removed]",
      "text/plain": [
       "<Figure size 432x288 with 1 Axes>"
      ]
     },
     "metadata": {
      "needs_background": "light"
     },
     "output_type": "display_data"
    },
    {
     "data": {
      "image/png": "[encoded data removed]",
      "text/plain": [
       "<Figure size 432x288 with 1 Axes>"
      ]
     },
     "metadata": {
      "needs_background": "light"
     },
     "output_type": "display_data"
    }
   ],
   "source": [
    "iris_df[iris_df['target']==0].plot.box()   #setosa\n",
    "iris_df[iris_df['target']==1].plot.box()   #versicolor\n",
    "iris_df[iris_df['target']==2].plot.box()   #virginica"
   ]
  },
  {
   "cell_type": "markdown",
   "metadata": {
    "id": "5ctRWHSQ69pu"
   },
   "source": [
    "From the description plots above, we can see that Class=0 is characteristically much different than Class=1 and Class=2. It is the only class where petal length is lower than sepal width.\n",
    "\n",
    "Scatter plots below verify this observation as well."
   ]
  },
  {
   "cell_type": "code",
   "execution_count": 15,
   "metadata": {
    "colab": {
     "base_uri": "https://localhost:8080/",
     "height": 757
    },
    "executionInfo": {
     "elapsed": 1424,
     "status": "ok",
     "timestamp": 1655147129641,
     "user": {
      "displayName": "Yalin Bastanlar",
      "userId": "07407514109940480382"
     },
     "user_tz": 240
    },
    "id": "zmHwjqhGgUVq",
    "outputId": "b08504e1-696f-4c0b-b51a-8db615134438"
   },
   "outputs": [
    {
     "data": {
      "text/plain": [
       "<AxesSubplot:xlabel='petal length (cm)', ylabel='petal width (cm)'>"
      ]
     },
     "execution_count": 15,
     "metadata": {},
     "output_type": "execute_result"
    },
    {
     "data": {
      "image/png": "[encoded data removed]",
      "text/plain": [
       "<Figure size 432x288 with 2 Axes>"
      ]
     },
     "metadata": {
      "needs_background": "light"
     },
     "output_type": "display_data"
    },
    {
     "data": {
      "image/png": "[encoded data removed]",
      "text/plain": [
       "<Figure size 432x288 with 2 Axes>"
      ]
     },
     "metadata": {
      "needs_background": "light"
     },
     "output_type": "display_data"
    },
    {
     "data": {
      "image/png": "[encoded data removed]",
      "text/plain": [
       "<Figure size 432x288 with 2 Axes>"
      ]
     },
     "metadata": {
      "needs_background": "light"
     },
     "output_type": "display_data"
    }
   ],
   "source": [
    "iris_df.plot.scatter(x='petal length (cm)',y='sepal length (cm)',s=20,c='target',colormap='viridis')\n",
    "iris_df.plot.scatter(x='petal length (cm)',y='sepal width (cm)',s=10,c='target',colormap='viridis')\n",
    "iris_df.plot.scatter(x='petal length (cm)',y='petal width (cm)',s=10,c='target',colormap='viridis')\n",
    "#iris_df.plot.scatter(x='petal width (cm)',y='sepal length (cm)',s=10,c='target',colormap='viridis')\n",
    "#iris_df.plot.scatter(x='petal width (cm)',y='sepal width (cm)',s=10,c='target',colormap='viridis')\n",
    "#iris_df.plot.scatter(x='sepal length (cm)',y='sepal width (cm)',s=10,c='target',colormap='viridis')\n",
    "#help(iris_df.plot.scatter)"
   ]
  },
  {
   "cell_type": "code",
   "execution_count": 16,
   "metadata": {
    "id": "y6LPYtz1xzKB"
   },
   "outputs": [],
   "source": [
    "# Make the data sets, train/test/validate\n",
    "# For the moment, we will only have train and validation. We will evaluate the model on validation set.\n",
    "# Remember we shuffled the dataset, so it is safe to take first 100 as training set.\n",
    "train_df = iris_df.iloc[0:100]\n",
    "val_df = iris_df.iloc[100:150]\n",
    "#test_df = iris_df.iloc[125:150]"
   ]
  },
  {
   "cell_type": "markdown",
   "metadata": {
    "id": "4G6ELAe69bcv"
   },
   "source": [
    "Now, when applying Logistic Regression, pay attention to the parameter $C$. It is 'Inverse of regularization strength' with default value 1.0."
   ]
  },
  {
   "cell_type": "code",
   "execution_count": 17,
   "metadata": {
    "colab": {
     "base_uri": "https://localhost:8080/"
    },
    "executionInfo": {
     "elapsed": 128,
     "status": "ok",
     "timestamp": 1655224207701,
     "user": {
      "displayName": "Yalin Bastanlar",
      "userId": "07407514109940480382"
     },
     "user_tz": 240
    },
    "id": "vHbKEt0-53JF",
    "outputId": "55aba254-e5bd-406f-8679-4a2f7ca373f0"
   },
   "outputs": [
    {
     "data": {
      "text/plain": [
       "LogisticRegression()"
      ]
     },
     "execution_count": 17,
     "metadata": {},
     "output_type": "execute_result"
    }
   ],
   "source": [
    "# lr_orig = LogisticRegression(penalty='l2', C=1.0, fit_intercept=True, solver='lbfgs', max_iter=100, multi_class='auto')\n",
    "# l2 is the choice of regularization term, C is the inverse of regularization strength\n",
    "lr_orig = LogisticRegression(C=1.0)\n",
    "lr_orig.fit(train_df.drop(['target'], axis=1),train_df['target'])\n",
    "#help(train_df.drop)\n",
    "#help(lr_orig)"
   ]
  },
  {
   "cell_type": "markdown",
   "metadata": {
    "id": "A8GQWJcHlE8V"
   },
   "source": [
    "#### Look in the documentation before using the models:\n",
    "\n",
    "class sklearn.linear_model.LogisticRegression(  \n",
    "penalty='l2',      \n",
    "dual=False,   \n",
    "tol=0.0001,   \n",
    "C=1.0,   \n",
    "fit_intercept=True,   \n",
    "intercept_scaling=1,   \n",
    "class_weight=None,   \n",
    "random_state=None,   \n",
    "solver='lbfgs',   \n",
    "max_iter=100,   \n",
    "multi_class='auto',   \n",
    "verbose=0,   \n",
    "warm_start=False,   \n",
    "n_jobs=None,  \n",
    "l1_ratio=None  \n",
    ")"
   ]
  },
  {
   "cell_type": "code",
   "execution_count": 18,
   "metadata": {
    "colab": {
     "base_uri": "https://localhost:8080/"
    },
    "executionInfo": {
     "elapsed": 110,
     "status": "ok",
     "timestamp": 1655224220473,
     "user": {
      "displayName": "Yalin Bastanlar",
      "userId": "07407514109940480382"
     },
     "user_tz": 240
    },
    "id": "DOERofvzjLLG",
    "outputId": "5f90c8f1-fbb3-482f-97b6-c4abdb773814"
   },
   "outputs": [
    {
     "name": "stdout",
     "output_type": "stream",
     "text": [
      "97 / 100\n",
      "48 / 50\n"
     ]
    }
   ],
   "source": [
    "print(sum(lr_orig.predict(train_df.drop('target', axis=1))==train_df['target']), \"/\",len(train_df['target']))\n",
    "print(sum(lr_orig.predict(val_df.drop('target', axis=1))==val_df['target']), \"/\", len(val_df['target']))"
   ]
  },
  {
   "cell_type": "markdown",
   "metadata": {
    "id": "AgtZGlL6dJ3-"
   },
   "source": [
    "# Regularization\n",
    "LogisticRegression() supports $L1$ and $L2$ regularization.\n",
    "\n",
    "Recall the original cross-entropy loss:\n",
    "\n",
    "$$\n",
    "J(w)=\\sum{[-y^{(i)}log(g(z^{(i)}))-(1-y^{(i)})log(1-g(z^{(i)})]}\n",
    "$$\n",
    "\n",
    "Adding $L2$:\n",
    "\n",
    "$$\n",
    "J(w)=\\sum{[-y^{(i)}log(g(z^{(i)}))-(1-y^{(i)})log(1-g(z^{(i)})]}+\\lambda ||w||^2\n",
    "$$\n",
    "\n",
    "In the above, increasing $\\lambda$ increasing the penalty for larger weights and will shrink our coefficient estimates.\n",
    "\n",
    "### scikit-learn Implements this using the inverse of $\\lambda$, smaller $C$ increases Regularization!"
   ]
  },
  {
   "cell_type": "code",
   "execution_count": 19,
   "metadata": {
    "colab": {
     "base_uri": "https://localhost:8080/",
     "height": 285
    },
    "executionInfo": {
     "elapsed": 971,
     "status": "ok",
     "timestamp": 1655224230504,
     "user": {
      "displayName": "Yalin Bastanlar",
      "userId": "07407514109940480382"
     },
     "user_tz": 240
    },
    "id": "T3K8s7GMTMOW",
    "outputId": "e8e3f1c6-9d7d-4a4f-e476-6d877de30ed5"
   },
   "outputs": [
    {
     "data": {
      "image/png": "[encoded data removed]",
      "text/plain": [
       "<Figure size 432x288 with 1 Axes>"
      ]
     },
     "metadata": {
      "needs_background": "light"
     },
     "output_type": "display_data"
    }
   ],
   "source": [
    "cvals = [0.01, 0.05, 0.1, 0.5, 1.0, 2, 5, 10, 50, 250]\n",
    "results = np.zeros(10)\n",
    "index=0\n",
    "for cv in cvals:\n",
    "    lr = LogisticRegression(penalty='l2', C=cv, fit_intercept=True, solver='lbfgs', max_iter=500, multi_class='auto')\n",
    "    lr.fit(train_df.drop(['target'], axis=1),train_df['target'])\n",
    "    u=sum(lr.predict(val_df.drop('target', axis=1))==val_df['target'])\n",
    "    results[index]=u\n",
    "    index+=1\n",
    "\n",
    "x = np.array(range(0,10))\n",
    "pyplot.plot(cvals, results)\n",
    "#help(pyplot.xscale)\n",
    "pyplot.xscale('log')\n",
    "pyplot.xlabel('$C$ values')\n",
    "pyplot.ylabel('Accuracy on validation set')\n",
    "pyplot.show()"
   ]
  },
  {
   "cell_type": "markdown",
   "metadata": {
    "id": "omUiu9hcSOki"
   },
   "source": [
    "Deciding on the best $C$ value is not easy. It is a hyperparameter. Using test data to see that is not proper. We should **not** see the test data until final performance evaluation. To choose hyperparameters ($C$, model complexity etc.), we spare a separate section of the data as **validation set**. We'll elaborate this more in an upcoming lecture."
   ]
  },
  {
   "cell_type": "markdown",
   "metadata": {
    "id": "kIlz16AJ805k"
   },
   "source": [
    "## A New Example Where Linear Boundary is insufficient"
   ]
  },
  {
   "cell_type": "code",
   "execution_count": 20,
   "metadata": {
    "id": "_fanJUUdEL2P"
   },
   "outputs": [
    {
     "name": "stdout",
     "output_type": "stream",
     "text": [
      "Help on function make_moons in module sklearn.datasets._samples_generator:\n",
      "\n",
      "make_moons(n_samples=100, *, shuffle=True, noise=None, random_state=None)\n",
      "    Make two interleaving half circles.\n",
      "    \n",
      "    A simple toy dataset to visualize clustering and classification\n",
      "    algorithms. Read more in the :ref:`User Guide <sample_generators>`.\n",
      "    \n",
      "    Parameters\n",
      "    ----------\n",
      "    n_samples : int or tuple of shape (2,), dtype=int, default=100\n",
      "        If int, the total number of points generated.\n",
      "        If two-element tuple, number of points in each of two moons.\n",
      "    \n",
      "        .. versionchanged:: 0.23\n",
      "           Added two-element tuple.\n",
      "    \n",
      "    shuffle : bool, default=True\n",
      "        Whether to shuffle the samples.\n",
      "    \n",
      "    noise : float, default=None\n",
      "        Standard deviation of Gaussian noise added to the data.\n",
      "    \n",
      "    random_state : int, RandomState instance or None, default=None\n",
      "        Determines random number generation for dataset shuffling and noise.\n",
      "        Pass an int for reproducible output across multiple function calls.\n",
      "        See :term:`Glossary <random_state>`.\n",
      "    \n",
      "    Returns\n",
      "    -------\n",
      "    X : ndarray of shape (n_samples, 2)\n",
      "        The generated samples.\n",
      "    \n",
      "    y : ndarray of shape (n_samples,)\n",
      "        The integer labels (0 or 1) for class membership of each sample.\n",
      "\n"
     ]
    }
   ],
   "source": [
    "help(datasets.make_moons)"
   ]
  },
  {
   "cell_type": "code",
   "execution_count": 21,
   "metadata": {
    "colab": {
     "base_uri": "https://localhost:8080/",
     "height": 282
    },
    "executionInfo": {
     "elapsed": 293,
     "status": "ok",
     "timestamp": 1655224312680,
     "user": {
      "displayName": "Yalin Bastanlar",
      "userId": "07407514109940480382"
     },
     "user_tz": 240
    },
    "id": "WGGKqfrnqduq",
    "outputId": "1c507cff-1d51-4d2e-c8ae-18d213dd8e1f"
   },
   "outputs": [
    {
     "data": {
      "text/plain": [
       "<matplotlib.collections.PathCollection at 0x2d1eb0af6d0>"
      ]
     },
     "execution_count": 21,
     "metadata": {},
     "output_type": "execute_result"
    },
    {
     "data": {
      "image/png": "[encoded data removed]",
      "text/plain": [
       "<Figure size 432x288 with 1 Axes>"
      ]
     },
     "metadata": {
      "needs_background": "light"
     },
     "output_type": "display_data"
    }
   ],
   "source": [
    "d=datasets.make_moons(n_samples=500, noise=0.15)  #try noise=None\n",
    "pyplot.scatter(x=d[0][::,0],y=d[0][::,1],c=d[1])\n"
   ]
  },
  {
   "cell_type": "code",
   "execution_count": 22,
   "metadata": {
    "colab": {
     "base_uri": "https://localhost:8080/"
    },
    "executionInfo": {
     "elapsed": 131,
     "status": "ok",
     "timestamp": 1655224445634,
     "user": {
      "displayName": "Yalin Bastanlar",
      "userId": "07407514109940480382"
     },
     "user_tz": 240
    },
    "id": "ZbsQl-3WHHhM",
    "outputId": "b197ec70-762b-4dbc-9517-cd8559b8b7e7"
   },
   "outputs": [
    {
     "name": "stdout",
     "output_type": "stream",
     "text": [
      "(200, 2)\n",
      "(300, 2)\n",
      "(300,)\n"
     ]
    }
   ],
   "source": [
    "X = d[0]\n",
    "y = d[1]\n",
    "X_train = X[0:300, :]\n",
    "y_train = y[0:300]\n",
    "X_val = X[300:, :]\n",
    "y_val = y[300:]\n",
    "print(X_val.shape)\n",
    "print(X_train.shape)\n",
    "print(y_train.shape)\n",
    "\n",
    "#pyplot.scatter(x=X_train[:,0],y=X_train[:,1], c=y_train)"
   ]
  },
  {
   "cell_type": "code",
   "execution_count": 23,
   "metadata": {
    "colab": {
     "base_uri": "https://localhost:8080/"
    },
    "executionInfo": {
     "elapsed": 112,
     "status": "ok",
     "timestamp": 1655224448285,
     "user": {
      "displayName": "Yalin Bastanlar",
      "userId": "07407514109940480382"
     },
     "user_tz": 240
    },
    "id": "3DKLSqWfHiBw",
    "outputId": "13fe694d-3ace-4561-80c6-d9bf1ab68116"
   },
   "outputs": [
    {
     "data": {
      "text/plain": [
       "LogisticRegression()"
      ]
     },
     "execution_count": 23,
     "metadata": {},
     "output_type": "execute_result"
    }
   ],
   "source": [
    "lr = LogisticRegression(penalty='l2', C=1.0, fit_intercept=True, solver='lbfgs', max_iter=100, multi_class='auto')\n",
    "lr = LogisticRegression()\n",
    "lr.fit(X_train, y_train)\n",
    "# #help(lr)\n"
   ]
  },
  {
   "cell_type": "code",
   "execution_count": 24,
   "metadata": {
    "colab": {
     "base_uri": "https://localhost:8080/"
    },
    "executionInfo": {
     "elapsed": 107,
     "status": "ok",
     "timestamp": 1655224449422,
     "user": {
      "displayName": "Yalin Bastanlar",
      "userId": "07407514109940480382"
     },
     "user_tz": 240
    },
    "id": "o-QS2F_5-1dF",
    "outputId": "0d05514b-b423-4c5d-c2df-71b096901d0c"
   },
   "outputs": [
    {
     "data": {
      "text/plain": [
       "0.87"
      ]
     },
     "execution_count": 24,
     "metadata": {},
     "output_type": "execute_result"
    }
   ],
   "source": [
    "lr.score(X_val, y_val)"
   ]
  },
  {
   "cell_type": "markdown",
   "metadata": {
    "id": "GnSpx7-XKyvX"
   },
   "source": [
    "Let's see how the estimated boundary looks like."
   ]
  },
  {
   "cell_type": "code",
   "execution_count": 25,
   "metadata": {
    "colab": {
     "base_uri": "https://localhost:8080/",
     "height": 282
    },
    "executionInfo": {
     "elapsed": 431,
     "status": "ok",
     "timestamp": 1655224452064,
     "user": {
      "displayName": "Yalin Bastanlar",
      "userId": "07407514109940480382"
     },
     "user_tz": 240
    },
    "id": "QAmxUxlBKx-8",
    "outputId": "618ec2df-49dc-4c2f-c825-c408d36f3927"
   },
   "outputs": [
    {
     "data": {
      "text/plain": [
       "<matplotlib.collections.PathCollection at 0x2d1ea826790>"
      ]
     },
     "execution_count": 25,
     "metadata": {},
     "output_type": "execute_result"
    },
    {
     "data": {
      "image/png": "[encoded data removed]",
      "text/plain": [
       "<Figure size 432x288 with 1 Axes>"
      ]
     },
     "metadata": {
      "needs_background": "light"
     },
     "output_type": "display_data"
    }
   ],
   "source": [
    "pyplot.scatter(x=X_val[:,0],y=X_val[:,1], c=lr.predict(X_val))"
   ]
  },
  {
   "cell_type": "markdown",
   "metadata": {
    "id": "wvg_6OQoU3oR"
   },
   "source": [
    "With only two features, Logistic Regression is able to fit only linear boundaries. Not surprisingly it does not perform well, because classes are not linearly separable."
   ]
  },
  {
   "cell_type": "markdown",
   "metadata": {
    "id": "OcWh9ryNGPUy"
   },
   "source": [
    "We write a method that increases the number of features from 2 to 10. First it adds three new features, namely $x^2$, $x\\cdot y$ and $y^2$.\n",
    "Last 5 features are sinusoids of first 5 features, i.e. $sin(x)$, $sin(y)$, $sin(x^2)$, $sin(x\\cdot y)$ and $sin(y^2)$. These features help Logistic Regression to fit a non-linear boundary."
   ]
  },
  {
   "cell_type": "code",
   "execution_count": 26,
   "metadata": {
    "id": "EU0tLJctAsdt"
   },
   "outputs": [],
   "source": [
    "def addFeatures(X_orig, X_new):\n",
    "  for row in range(X_orig.shape[0]):\n",
    "    \n",
    "    #First two features are just copies of the original two features \n",
    "    col = 0\n",
    "  \n",
    "    X_new[row, col] = X_orig[row, col]\n",
    "    col += 1\n",
    "  \n",
    "    X_new[row, col] = X_orig[row, col]\n",
    "    col += 1\n",
    "    \n",
    "    #Now we crate new features that do not exist in the original data\n",
    "    \n",
    "    X_new[row, col] = X_orig[row, 0]*X_orig[row, 0]\n",
    "    col += 1\n",
    "    \n",
    "    X_new[row, col] = X_orig[row, 0]*X_orig[row, 1]\n",
    "    col += 1\n",
    "    \n",
    "    X_new[row, col] = X_orig[row, 1]*X_orig[row, 1]\n",
    "    col += 1\n",
    "    \n",
    "    num_cur_features = col\n",
    "    for j in range(num_cur_features):\n",
    "      X_new[row, col] = np.sin(X_new[row, j])\n",
    "      col += 1"
   ]
  },
  {
   "cell_type": "code",
   "execution_count": 27,
   "metadata": {
    "colab": {
     "base_uri": "https://localhost:8080/"
    },
    "executionInfo": {
     "elapsed": 129,
     "status": "ok",
     "timestamp": 1655224474640,
     "user": {
      "displayName": "Yalin Bastanlar",
      "userId": "07407514109940480382"
     },
     "user_tz": 240
    },
    "id": "KY_Z3Hoy_zBb",
    "outputId": "7214e432-169c-4249-96d2-810aede2cb1d"
   },
   "outputs": [
    {
     "name": "stdout",
     "output_type": "stream",
     "text": [
      "(300, 10)\n",
      "(200, 10)\n"
     ]
    }
   ],
   "source": [
    "X_train_p = np.zeros((X_train.shape[0], 10))\n",
    "X_val_p = np.zeros((X_val.shape[0], 10))\n",
    "print(X_train_p.shape)\n",
    "print(X_val_p.shape)"
   ]
  },
  {
   "cell_type": "code",
   "execution_count": 28,
   "metadata": {
    "colab": {
     "base_uri": "https://localhost:8080/"
    },
    "executionInfo": {
     "elapsed": 116,
     "status": "ok",
     "timestamp": 1655224476851,
     "user": {
      "displayName": "Yalin Bastanlar",
      "userId": "07407514109940480382"
     },
     "user_tz": 240
    },
    "id": "qdSUD67CAtr-",
    "outputId": "7a7c074e-0753-4708-c013-e0ab56736922"
   },
   "outputs": [
    {
     "name": "stdout",
     "output_type": "stream",
     "text": [
      "(300, 10)\n",
      "(200, 10)\n"
     ]
    }
   ],
   "source": [
    "addFeatures(X_train, X_train_p)\n",
    "addFeatures(X_val, X_val_p)\n",
    "print(X_train_p.shape)\n",
    "print(X_val_p.shape)"
   ]
  },
  {
   "cell_type": "code",
   "execution_count": 29,
   "metadata": {
    "colab": {
     "base_uri": "https://localhost:8080/"
    },
    "executionInfo": {
     "elapsed": 312,
     "status": "ok",
     "timestamp": 1655224594105,
     "user": {
      "displayName": "Yalin Bastanlar",
      "userId": "07407514109940480382"
     },
     "user_tz": 240
    },
    "id": "aKT4dv4RCf-O",
    "outputId": "e91f62cf-15a4-4fd6-86b4-bbf044b4473e"
   },
   "outputs": [
    {
     "data": {
      "text/plain": [
       "LogisticRegression(max_iter=500)"
      ]
     },
     "execution_count": 29,
     "metadata": {},
     "output_type": "execute_result"
    }
   ],
   "source": [
    "lr = LogisticRegression(penalty='l2', C=1.0, fit_intercept=True, solver='lbfgs', max_iter=500, multi_class='auto')\n",
    "lr.fit(X_train_p, y_train)"
   ]
  },
  {
   "cell_type": "code",
   "execution_count": 30,
   "metadata": {
    "colab": {
     "base_uri": "https://localhost:8080/",
     "height": 282
    },
    "executionInfo": {
     "elapsed": 475,
     "status": "ok",
     "timestamp": 1655224597438,
     "user": {
      "displayName": "Yalin Bastanlar",
      "userId": "07407514109940480382"
     },
     "user_tz": 240
    },
    "id": "Mw5Qtk2LiaIj",
    "outputId": "11d4631d-6412-45ce-ad87-577b813fa088"
   },
   "outputs": [
    {
     "data": {
      "text/plain": [
       "<matplotlib.collections.PathCollection at 0x2d1eb2d4970>"
      ]
     },
     "execution_count": 30,
     "metadata": {},
     "output_type": "execute_result"
    },
    {
     "data": {
      "image/png": "[encoded data removed]",
      "text/plain": [
       "<Figure size 432x288 with 1 Axes>"
      ]
     },
     "metadata": {
      "needs_background": "light"
     },
     "output_type": "display_data"
    }
   ],
   "source": [
    "pyplot.scatter(x=X_train_p[:,0], y=X_train_p[:,1], c=lr.predict(X_train_p))"
   ]
  },
  {
   "cell_type": "markdown",
   "metadata": {
    "id": "TP23XV91ixcp"
   },
   "source": [
    "What about the performance on the validation data?"
   ]
  },
  {
   "cell_type": "code",
   "execution_count": 31,
   "metadata": {
    "colab": {
     "base_uri": "https://localhost:8080/"
    },
    "executionInfo": {
     "elapsed": 101,
     "status": "ok",
     "timestamp": 1655224605227,
     "user": {
      "displayName": "Yalin Bastanlar",
      "userId": "07407514109940480382"
     },
     "user_tz": 240
    },
    "id": "WPzl5dJUCg-3",
    "outputId": "8238e522-6bc9-401d-c045-3a344840c9a4"
   },
   "outputs": [
    {
     "data": {
      "text/plain": [
       "0.975"
      ]
     },
     "execution_count": 31,
     "metadata": {},
     "output_type": "execute_result"
    }
   ],
   "source": [
    "lr.score(X_val_p, y_val)"
   ]
  },
  {
   "cell_type": "markdown",
   "metadata": {
    "id": "e-E91pK_H3m-"
   },
   "source": [
    "Note the improved performance with extra features. Lets plot the predicted classes on validation data."
   ]
  },
  {
   "cell_type": "code",
   "execution_count": 32,
   "metadata": {
    "colab": {
     "base_uri": "https://localhost:8080/",
     "height": 282
    },
    "executionInfo": {
     "elapsed": 267,
     "status": "ok",
     "timestamp": 1655224608401,
     "user": {
      "displayName": "Yalin Bastanlar",
      "userId": "07407514109940480382"
     },
     "user_tz": 240
    },
    "id": "lF2WA2eMVMFK",
    "outputId": "8a860d23-7f16-47b9-cbeb-5300f714f08e"
   },
   "outputs": [
    {
     "data": {
      "text/plain": [
       "<matplotlib.collections.PathCollection at 0x2d1eb287910>"
      ]
     },
     "execution_count": 32,
     "metadata": {},
     "output_type": "execute_result"
    },
    {
     "data": {
      "image/png": "[encoded data removed]",
      "text/plain": [
       "<Figure size 432x288 with 1 Axes>"
      ]
     },
     "metadata": {
      "needs_background": "light"
     },
     "output_type": "display_data"
    }
   ],
   "source": [
    "pyplot.scatter(x=X_val_p[:,0], y=X_val_p[:,1], c=lr.predict(X_val_p))"
   ]
  },
  {
   "cell_type": "markdown",
   "metadata": {
    "id": "lgnKMIEMsRIM"
   },
   "source": [
    "# Homework 2: Due 25 June 2022, 11:59 PM\n",
    "\n",
    "Q1) Regarding our Logistic Regression model on Iris dataset. \n",
    "\n",
    "a) Which target class was misclassified the most? What was it mostly classified as?\n",
    "\n",
    "b) Write a function which creates a 3 by 3 table such that:\n",
    "  - row $i$ column $j$ shows the number of elements of type $i$ that were classified as type $j$.\n",
    "  - note the diagonal is the count of correctly classified elements.\n",
    "  - this matrix is known as 'confusion matrix' \n",
    "\n",
    "Q2) Try creating new features to the Iris Dataset by multiplying/squaring various current features together. (e.g. area = length*width)\n",
    "\n",
    "Can we increase the performance on the test set? I believe we can. Please come up with a better performing set of features. Compare the performance with lr.score.\n",
    "\n",
    "Important: Keep test size 33% of the original data, which corresponds to 50 samples."
   ]
  },
  {
   "cell_type": "markdown",
   "metadata": {},
   "source": [
    "<h3>Q2</h3>"
   ]
  },
  {
   "cell_type": "code",
   "execution_count": 33,
   "metadata": {},
   "outputs": [],
   "source": [
    "from sklearn.model_selection import train_test_split"
   ]
  },
  {
   "cell_type": "code",
   "execution_count": 34,
   "metadata": {},
   "outputs": [
    {
     "name": "stdout",
     "output_type": "stream",
     "text": [
      "Logistic accuracy score:\n",
      "  0.96\n"
     ]
    },
    {
     "name": "stderr",
     "output_type": "stream",
     "text": [
      "C:\\Users\\sanat\\anaconda3\\lib\\site-packages\\sklearn\\linear_model\\_logistic.py:763: ConvergenceWarning: lbfgs failed to converge (status=1):\n",
      "STOP: TOTAL NO. of ITERATIONS REACHED LIMIT.\n",
      "\n",
      "Increase the number of iterations (max_iter) or scale the data as shown in:\n",
      "    https://scikit-learn.org/stable/modules/preprocessing.html\n",
      "Please also refer to the documentation for alternative solver options:\n",
      "    https://scikit-learn.org/stable/modules/linear_model.html#logistic-regression\n",
      "  n_iter_i = _check_optimize_result(\n"
     ]
    }
   ],
   "source": [
    "#Finding the score of dataset before new features with 30percent test data\n",
    "\n",
    "x_train,x_test,y_train,y_test = train_test_split(iris_dfstart.drop(['target'], axis=1),iris_dfstart['target'],test_size=0.33)\n",
    "\n",
    "lr = LogisticRegression()\n",
    "\n",
    "lr.fit(x_train,y_train)\n",
    "\n",
    "print(\"Logistic accuracy score:\\n \",lr.score(x_test,y_test))"
   ]
  },
  {
   "cell_type": "code",
   "execution_count": 35,
   "metadata": {},
   "outputs": [],
   "source": [
    "iris_dfnew = iris_dfstart.copy()               #Multipling the features by twice\n",
    "iris_dfnew['sepal_area'] = iris_dfnew['sepal length (cm)']*iris_dfnew['sepal width (cm)']\n",
    "iris_dfnew['petal_area'] = iris_dfnew['petal length (cm)']*iris_dfnew['petal width (cm)']\n"
   ]
  },
  {
   "cell_type": "code",
   "execution_count": 36,
   "metadata": {},
   "outputs": [
    {
     "name": "stdout",
     "output_type": "stream",
     "text": [
      "Logistic accuracy score:\n",
      "  0.96\n"
     ]
    },
    {
     "name": "stderr",
     "output_type": "stream",
     "text": [
      "C:\\Users\\sanat\\anaconda3\\lib\\site-packages\\sklearn\\linear_model\\_logistic.py:763: ConvergenceWarning: lbfgs failed to converge (status=1):\n",
      "STOP: TOTAL NO. of ITERATIONS REACHED LIMIT.\n",
      "\n",
      "Increase the number of iterations (max_iter) or scale the data as shown in:\n",
      "    https://scikit-learn.org/stable/modules/preprocessing.html\n",
      "Please also refer to the documentation for alternative solver options:\n",
      "    https://scikit-learn.org/stable/modules/linear_model.html#logistic-regression\n",
      "  n_iter_i = _check_optimize_result(\n"
     ]
    }
   ],
   "source": [
    "#Finding the score of dataset after multipling new features with 30percent test data\n",
    "\n",
    "iris_dfnewfeatures=shuffle(iris_dfnew)\n",
    "\n",
    "x_train,x_test,y_train,y_test = train_test_split(iris_dfnewfeatures.drop(['target'], axis=1),iris_dfnewfeatures['target'],test_size=0.33)\n",
    "\n",
    "lr = LogisticRegression()\n",
    "\n",
    "lr.fit(x_train,y_train)\n",
    "\n",
    "print(\"Logistic accuracy score:\\n \",lr.score(x_test,y_test))"
   ]
  },
  {
   "cell_type": "markdown",
   "metadata": {},
   "source": [
    "Reference:\n",
    "    \n",
    "    https://www.kaggle.com/code/jchen2186/machine-learning-with-iris-dataset/notebook"
   ]
  },
  {
   "cell_type": "markdown",
   "metadata": {},
   "source": [
    "<h3>Q1</h3>"
   ]
  },
  {
   "cell_type": "code",
   "execution_count": 37,
   "metadata": {},
   "outputs": [
    {
     "data": {
      "text/plain": [
       "<AxesSubplot:>"
      ]
     },
     "execution_count": 37,
     "metadata": {},
     "output_type": "execute_result"
    },
    {
     "data": {
      "image/png": "[encoded data removed]",
      "text/plain": [
       "<Figure size 432x288 with 1 Axes>"
      ]
     },
     "metadata": {
      "needs_background": "light"
     },
     "output_type": "display_data"
    }
   ],
   "source": [
    "from pandas.plotting import radviz\n",
    "radviz(iris_df, \"target\")"
   ]
  },
  {
   "cell_type": "markdown",
   "metadata": {},
   "source": [
    "From the above we can say that class 0 = Setosa was classified data and others two are misclassified data \n",
    "\n",
    "Reference\n",
    "https://www.scikit-yb.org/en/latest/api/features/radviz.html#:~:text=RadViz%20is%20a%20multivariate%20data,the%20center%20to%20each%20arc.\n"
   ]
  },
  {
   "cell_type": "code",
   "execution_count": 39,
   "metadata": {},
   "outputs": [],
   "source": [
    "x= iris_df.drop(['target'], axis=1)\n",
    "y = iris_df['target']\n",
    "\n",
    "x_train, x_test, y_train, y_test = train_test_split(x, y, test_size = 0.33, random_state=1)\n"
   ]
  },
  {
   "cell_type": "code",
   "execution_count": 40,
   "metadata": {},
   "outputs": [
    {
     "data": {
      "text/plain": [
       "LogisticRegression()"
      ]
     },
     "execution_count": 40,
     "metadata": {},
     "output_type": "execute_result"
    }
   ],
   "source": [
    "lr = LogisticRegression()\n",
    "lr.fit(x_train,y_train)"
   ]
  },
  {
   "cell_type": "code",
   "execution_count": 41,
   "metadata": {},
   "outputs": [],
   "source": [
    "def confusionMatrix(y, y_pred):                #Calculating Confusion matrix by defination\n",
    "    confusionmatrix = np.zeros(9).reshape(3,3)\n",
    "    for i in range(len(y)):\n",
    "        confusionmatrix[int(y[i]), int(y_pred[i])] += 1\n",
    "    return confusionmatrix"
   ]
  },
  {
   "cell_type": "code",
   "execution_count": 42,
   "metadata": {},
   "outputs": [
    {
     "data": {
      "text/plain": [
       "array([[31.,  0.,  0.],\n",
       "       [ 0., 30.,  1.],\n",
       "       [ 0.,  2., 36.]])"
      ]
     },
     "execution_count": 42,
     "metadata": {},
     "output_type": "execute_result"
    }
   ],
   "source": [
    "confusionMatrix(lr_orig.predict(train_df.drop(columns = ['target'])), train_df['target'].values)"
   ]
  },
  {
   "cell_type": "code",
   "execution_count": null,
   "metadata": {},
   "outputs": [],
   "source": []
  }
 ],
 "metadata": {
  "colab": {
   "collapsed_sections": [],
   "name": "Lecture 03 Logistic Regression and HW2.ipynb",
   "provenance": [
    {
     "file_id": "1ekkdt4NJRpu3Farh-cUQZmoP3q1eRKWG",
     "timestamp": 1536031133585
    },
    {
     "file_id": "1DziSbVqaWErcHDGNfhjupryp5jZFd-t2",
     "timestamp": 1535684058223
    }
   ]
  },
  "kernelspec": {
   "display_name": "Python 3 (ipykernel)",
   "language": "python",
   "name": "python3"
  },
  "language_info": {
   "codemirror_mode": {
    "name": "ipython",
    "version": 3
   },
   "file_extension": ".py",
   "mimetype": "text/x-python",
   "name": "python",
   "nbconvert_exporter": "python",
   "pygments_lexer": "ipython3",
   "version": "3.9.7"
  }
 },
 "nbformat": 4,
 "nbformat_minor": 1
}
